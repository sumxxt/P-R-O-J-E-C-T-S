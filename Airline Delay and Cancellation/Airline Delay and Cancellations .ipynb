{
 "cells": [
  {
   "cell_type": "code",
   "execution_count": 1,
   "id": "22cac90b",
   "metadata": {
    "execution": {
     "iopub.execute_input": "2023-03-11T17:50:13.608443Z",
     "iopub.status.busy": "2023-03-11T17:50:13.607108Z",
     "iopub.status.idle": "2023-03-11T17:51:02.054751Z",
     "shell.execute_reply": "2023-03-11T17:51:02.053111Z",
     "shell.execute_reply.started": "2023-03-11T17:50:13.608372Z"
    }
   },
   "outputs": [
    {
     "name": "stdout",
     "output_type": "stream",
     "text": [
      "Requirement already satisfied: pyspark in c:\\users\\sumit\\anaconda3\\lib\\site-packages (3.3.2)\n",
      "Requirement already satisfied: py4j in c:\\users\\sumit\\anaconda3\\lib\\site-packages (0.10.9.5)\n"
     ]
    },
    {
     "name": "stderr",
     "output_type": "stream",
     "text": [
      "WARNING: Ignoring invalid distribution -yspark (c:\\users\\sumit\\anaconda3\\lib\\site-packages)\n",
      "WARNING: Ignoring invalid distribution -yspark (c:\\users\\sumit\\anaconda3\\lib\\site-packages)\n",
      "WARNING: Ignoring invalid distribution -yspark (c:\\users\\sumit\\anaconda3\\lib\\site-packages)\n",
      "WARNING: Ignoring invalid distribution -yspark (c:\\users\\sumit\\anaconda3\\lib\\site-packages)\n",
      "WARNING: Ignoring invalid distribution -yspark (c:\\users\\sumit\\anaconda3\\lib\\site-packages)\n",
      "WARNING: Ignoring invalid distribution -yspark (c:\\users\\sumit\\anaconda3\\lib\\site-packages)\n"
     ]
    }
   ],
   "source": [
    "!pip install pyspark py4j"
   ]
  },
  {
   "cell_type": "code",
   "execution_count": 2,
   "id": "ba02bacd",
   "metadata": {
    "execution": {
     "iopub.execute_input": "2023-03-11T17:51:02.061617Z",
     "iopub.status.busy": "2023-03-11T17:51:02.061190Z",
     "iopub.status.idle": "2023-03-11T17:51:13.982456Z",
     "shell.execute_reply": "2023-03-11T17:51:13.980897Z",
     "shell.execute_reply.started": "2023-03-11T17:51:02.061571Z"
    }
   },
   "outputs": [
    {
     "name": "stdout",
     "output_type": "stream",
     "text": [
      "Requirement already satisfied: findspark in c:\\users\\sumit\\anaconda3\\lib\\site-packages (2.0.1)\n"
     ]
    },
    {
     "name": "stderr",
     "output_type": "stream",
     "text": [
      "WARNING: Ignoring invalid distribution -yspark (c:\\users\\sumit\\anaconda3\\lib\\site-packages)\n",
      "WARNING: Ignoring invalid distribution -yspark (c:\\users\\sumit\\anaconda3\\lib\\site-packages)\n",
      "WARNING: Ignoring invalid distribution -yspark (c:\\users\\sumit\\anaconda3\\lib\\site-packages)\n",
      "WARNING: Ignoring invalid distribution -yspark (c:\\users\\sumit\\anaconda3\\lib\\site-packages)\n",
      "WARNING: Ignoring invalid distribution -yspark (c:\\users\\sumit\\anaconda3\\lib\\site-packages)\n",
      "WARNING: Ignoring invalid distribution -yspark (c:\\users\\sumit\\anaconda3\\lib\\site-packages)\n"
     ]
    }
   ],
   "source": [
    "!pip install findspark"
   ]
  },
  {
   "cell_type": "code",
   "execution_count": 3,
   "id": "2d006a57",
   "metadata": {
    "execution": {
     "iopub.execute_input": "2023-03-11T17:51:13.986278Z",
     "iopub.status.busy": "2023-03-11T17:51:13.984476Z",
     "iopub.status.idle": "2023-03-11T17:51:48.962382Z",
     "shell.execute_reply": "2023-03-11T17:51:48.960734Z",
     "shell.execute_reply.started": "2023-03-11T17:51:13.986228Z"
    }
   },
   "outputs": [],
   "source": [
    "import findspark\n",
    "findspark.init()\n",
    "\n",
    "import pyspark # only run after findspark.init()\n",
    "from pyspark.sql import SparkSession\n",
    "\n",
    "spark = SparkSession.builder.getOrCreate()\n",
    "\n",
    "airline=spark.read.format(\"csv\").option(\"header\",\"true\").option(\"inferSchema\",'True').load(r'D:\\Project airline\\DATASET\\2018.csv')"
   ]
  },
  {
   "cell_type": "code",
   "execution_count": 4,
   "id": "55734188",
   "metadata": {
    "execution": {
     "iopub.execute_input": "2023-03-11T17:51:48.973222Z",
     "iopub.status.busy": "2023-03-11T17:51:48.971512Z",
     "iopub.status.idle": "2023-03-11T17:51:49.435020Z",
     "shell.execute_reply": "2023-03-11T17:51:49.433680Z",
     "shell.execute_reply.started": "2023-03-11T17:51:48.973153Z"
    }
   },
   "outputs": [
    {
     "data": {
      "text/plain": [
       "Row(FL_DATE=datetime.datetime(2018, 1, 1, 0, 0), OP_CARRIER='UA', OP_CARRIER_FL_NUM=2429, ORIGIN='EWR', DEST='DEN', CRS_DEP_TIME=1517, DEP_TIME=1512.0, DEP_DELAY=-5.0, TAXI_OUT=15.0, WHEELS_OFF=1527.0, WHEELS_ON=1712.0, TAXI_IN=10.0, CRS_ARR_TIME=1745, ARR_TIME=1722.0, ARR_DELAY=-23.0, CANCELLED=0.0, CANCELLATION_CODE=None, DIVERTED=0.0, CRS_ELAPSED_TIME=268.0, ACTUAL_ELAPSED_TIME=250.0, AIR_TIME=225.0, DISTANCE=1605.0, CARRIER_DELAY=None, WEATHER_DELAY=None, NAS_DELAY=None, SECURITY_DELAY=None, LATE_AIRCRAFT_DELAY=None, Unnamed: 27=None)"
      ]
     },
     "execution_count": 4,
     "metadata": {},
     "output_type": "execute_result"
    }
   ],
   "source": [
    "airline.head()"
   ]
  },
  {
   "cell_type": "code",
   "execution_count": 5,
   "id": "532e0c41",
   "metadata": {
    "execution": {
     "iopub.execute_input": "2023-03-11T17:51:49.450904Z",
     "iopub.status.busy": "2023-03-11T17:51:49.447176Z",
     "iopub.status.idle": "2023-03-11T17:51:49.846410Z",
     "shell.execute_reply": "2023-03-11T17:51:49.844946Z",
     "shell.execute_reply.started": "2023-03-11T17:51:49.450819Z"
    }
   },
   "outputs": [
    {
     "data": {
      "text/html": [
       "<div>\n",
       "<style scoped>\n",
       "    .dataframe tbody tr th:only-of-type {\n",
       "        vertical-align: middle;\n",
       "    }\n",
       "\n",
       "    .dataframe tbody tr th {\n",
       "        vertical-align: top;\n",
       "    }\n",
       "\n",
       "    .dataframe thead th {\n",
       "        text-align: right;\n",
       "    }\n",
       "</style>\n",
       "<table border=\"1\" class=\"dataframe\">\n",
       "  <thead>\n",
       "    <tr style=\"text-align: right;\">\n",
       "      <th></th>\n",
       "      <th>FL_DATE</th>\n",
       "      <th>OP_CARRIER</th>\n",
       "      <th>OP_CARRIER_FL_NUM</th>\n",
       "      <th>ORIGIN</th>\n",
       "      <th>DEST</th>\n",
       "      <th>CRS_DEP_TIME</th>\n",
       "      <th>DEP_TIME</th>\n",
       "      <th>DEP_DELAY</th>\n",
       "      <th>TAXI_OUT</th>\n",
       "      <th>WHEELS_OFF</th>\n",
       "      <th>...</th>\n",
       "      <th>CRS_ELAPSED_TIME</th>\n",
       "      <th>ACTUAL_ELAPSED_TIME</th>\n",
       "      <th>AIR_TIME</th>\n",
       "      <th>DISTANCE</th>\n",
       "      <th>CARRIER_DELAY</th>\n",
       "      <th>WEATHER_DELAY</th>\n",
       "      <th>NAS_DELAY</th>\n",
       "      <th>SECURITY_DELAY</th>\n",
       "      <th>LATE_AIRCRAFT_DELAY</th>\n",
       "      <th>Unnamed: 27</th>\n",
       "    </tr>\n",
       "  </thead>\n",
       "  <tbody>\n",
       "    <tr>\n",
       "      <th>0</th>\n",
       "      <td>2018-01-01</td>\n",
       "      <td>UA</td>\n",
       "      <td>2429</td>\n",
       "      <td>EWR</td>\n",
       "      <td>DEN</td>\n",
       "      <td>1517</td>\n",
       "      <td>1512.0</td>\n",
       "      <td>-5.0</td>\n",
       "      <td>15.0</td>\n",
       "      <td>1527.0</td>\n",
       "      <td>...</td>\n",
       "      <td>268.0</td>\n",
       "      <td>250.0</td>\n",
       "      <td>225.0</td>\n",
       "      <td>1605.0</td>\n",
       "      <td>NaN</td>\n",
       "      <td>NaN</td>\n",
       "      <td>NaN</td>\n",
       "      <td>NaN</td>\n",
       "      <td>NaN</td>\n",
       "      <td>None</td>\n",
       "    </tr>\n",
       "    <tr>\n",
       "      <th>1</th>\n",
       "      <td>2018-01-01</td>\n",
       "      <td>UA</td>\n",
       "      <td>2427</td>\n",
       "      <td>LAS</td>\n",
       "      <td>SFO</td>\n",
       "      <td>1115</td>\n",
       "      <td>1107.0</td>\n",
       "      <td>-8.0</td>\n",
       "      <td>11.0</td>\n",
       "      <td>1118.0</td>\n",
       "      <td>...</td>\n",
       "      <td>99.0</td>\n",
       "      <td>83.0</td>\n",
       "      <td>65.0</td>\n",
       "      <td>414.0</td>\n",
       "      <td>NaN</td>\n",
       "      <td>NaN</td>\n",
       "      <td>NaN</td>\n",
       "      <td>NaN</td>\n",
       "      <td>NaN</td>\n",
       "      <td>None</td>\n",
       "    </tr>\n",
       "    <tr>\n",
       "      <th>2</th>\n",
       "      <td>2018-01-01</td>\n",
       "      <td>UA</td>\n",
       "      <td>2426</td>\n",
       "      <td>SNA</td>\n",
       "      <td>DEN</td>\n",
       "      <td>1335</td>\n",
       "      <td>1330.0</td>\n",
       "      <td>-5.0</td>\n",
       "      <td>15.0</td>\n",
       "      <td>1345.0</td>\n",
       "      <td>...</td>\n",
       "      <td>134.0</td>\n",
       "      <td>126.0</td>\n",
       "      <td>106.0</td>\n",
       "      <td>846.0</td>\n",
       "      <td>NaN</td>\n",
       "      <td>NaN</td>\n",
       "      <td>NaN</td>\n",
       "      <td>NaN</td>\n",
       "      <td>NaN</td>\n",
       "      <td>None</td>\n",
       "    </tr>\n",
       "    <tr>\n",
       "      <th>3</th>\n",
       "      <td>2018-01-01</td>\n",
       "      <td>UA</td>\n",
       "      <td>2425</td>\n",
       "      <td>RSW</td>\n",
       "      <td>ORD</td>\n",
       "      <td>1546</td>\n",
       "      <td>1552.0</td>\n",
       "      <td>6.0</td>\n",
       "      <td>19.0</td>\n",
       "      <td>1611.0</td>\n",
       "      <td>...</td>\n",
       "      <td>190.0</td>\n",
       "      <td>182.0</td>\n",
       "      <td>157.0</td>\n",
       "      <td>1120.0</td>\n",
       "      <td>NaN</td>\n",
       "      <td>NaN</td>\n",
       "      <td>NaN</td>\n",
       "      <td>NaN</td>\n",
       "      <td>NaN</td>\n",
       "      <td>None</td>\n",
       "    </tr>\n",
       "    <tr>\n",
       "      <th>4</th>\n",
       "      <td>2018-01-01</td>\n",
       "      <td>UA</td>\n",
       "      <td>2424</td>\n",
       "      <td>ORD</td>\n",
       "      <td>ALB</td>\n",
       "      <td>630</td>\n",
       "      <td>650.0</td>\n",
       "      <td>20.0</td>\n",
       "      <td>13.0</td>\n",
       "      <td>703.0</td>\n",
       "      <td>...</td>\n",
       "      <td>112.0</td>\n",
       "      <td>106.0</td>\n",
       "      <td>83.0</td>\n",
       "      <td>723.0</td>\n",
       "      <td>NaN</td>\n",
       "      <td>NaN</td>\n",
       "      <td>NaN</td>\n",
       "      <td>NaN</td>\n",
       "      <td>NaN</td>\n",
       "      <td>None</td>\n",
       "    </tr>\n",
       "  </tbody>\n",
       "</table>\n",
       "<p>5 rows × 28 columns</p>\n",
       "</div>"
      ],
      "text/plain": [
       "     FL_DATE OP_CARRIER  OP_CARRIER_FL_NUM ORIGIN DEST  CRS_DEP_TIME  \\\n",
       "0 2018-01-01         UA               2429    EWR  DEN          1517   \n",
       "1 2018-01-01         UA               2427    LAS  SFO          1115   \n",
       "2 2018-01-01         UA               2426    SNA  DEN          1335   \n",
       "3 2018-01-01         UA               2425    RSW  ORD          1546   \n",
       "4 2018-01-01         UA               2424    ORD  ALB           630   \n",
       "\n",
       "   DEP_TIME  DEP_DELAY  TAXI_OUT  WHEELS_OFF  ...  CRS_ELAPSED_TIME  \\\n",
       "0    1512.0       -5.0      15.0      1527.0  ...             268.0   \n",
       "1    1107.0       -8.0      11.0      1118.0  ...              99.0   \n",
       "2    1330.0       -5.0      15.0      1345.0  ...             134.0   \n",
       "3    1552.0        6.0      19.0      1611.0  ...             190.0   \n",
       "4     650.0       20.0      13.0       703.0  ...             112.0   \n",
       "\n",
       "   ACTUAL_ELAPSED_TIME  AIR_TIME  DISTANCE  CARRIER_DELAY  WEATHER_DELAY  \\\n",
       "0                250.0     225.0    1605.0            NaN            NaN   \n",
       "1                 83.0      65.0     414.0            NaN            NaN   \n",
       "2                126.0     106.0     846.0            NaN            NaN   \n",
       "3                182.0     157.0    1120.0            NaN            NaN   \n",
       "4                106.0      83.0     723.0            NaN            NaN   \n",
       "\n",
       "  NAS_DELAY  SECURITY_DELAY  LATE_AIRCRAFT_DELAY  Unnamed: 27  \n",
       "0       NaN             NaN                  NaN         None  \n",
       "1       NaN             NaN                  NaN         None  \n",
       "2       NaN             NaN                  NaN         None  \n",
       "3       NaN             NaN                  NaN         None  \n",
       "4       NaN             NaN                  NaN         None  \n",
       "\n",
       "[5 rows x 28 columns]"
      ]
     },
     "metadata": {},
     "output_type": "display_data"
    }
   ],
   "source": [
    "display(airline.limit(5).toPandas())"
   ]
  },
  {
   "cell_type": "code",
   "execution_count": 6,
   "id": "ba04d966",
   "metadata": {
    "execution": {
     "iopub.execute_input": "2023-03-11T17:51:49.851807Z",
     "iopub.status.busy": "2023-03-11T17:51:49.848408Z",
     "iopub.status.idle": "2023-03-11T17:51:53.169087Z",
     "shell.execute_reply": "2023-03-11T17:51:53.167631Z",
     "shell.execute_reply.started": "2023-03-11T17:51:49.851731Z"
    }
   },
   "outputs": [
    {
     "data": {
      "text/plain": [
       "7213446"
      ]
     },
     "execution_count": 6,
     "metadata": {},
     "output_type": "execute_result"
    }
   ],
   "source": [
    "airline.count()"
   ]
  },
  {
   "cell_type": "code",
   "execution_count": 7,
   "id": "14856919",
   "metadata": {
    "execution": {
     "iopub.execute_input": "2023-03-11T17:51:53.171098Z",
     "iopub.status.busy": "2023-03-11T17:51:53.170549Z",
     "iopub.status.idle": "2023-03-11T17:53:00.333243Z",
     "shell.execute_reply": "2023-03-11T17:53:00.331945Z",
     "shell.execute_reply.started": "2023-03-11T17:51:53.171039Z"
    }
   },
   "outputs": [
    {
     "data": {
      "text/plain": [
       "7213446"
      ]
     },
     "execution_count": 7,
     "metadata": {},
     "output_type": "execute_result"
    }
   ],
   "source": [
    "airline.distinct().count()"
   ]
  },
  {
   "cell_type": "code",
   "execution_count": 8,
   "id": "d1880bb0",
   "metadata": {
    "execution": {
     "iopub.execute_input": "2023-03-11T17:53:00.335863Z",
     "iopub.status.busy": "2023-03-11T17:53:00.335426Z",
     "iopub.status.idle": "2023-03-11T17:53:56.214406Z",
     "shell.execute_reply": "2023-03-11T17:53:56.212945Z",
     "shell.execute_reply.started": "2023-03-11T17:53:00.335801Z"
    }
   },
   "outputs": [
    {
     "data": {
      "text/plain": [
       "0"
      ]
     },
     "execution_count": 8,
     "metadata": {},
     "output_type": "execute_result"
    }
   ],
   "source": [
    "airline.count() - airline.distinct().count()  # Total number of duplicate records"
   ]
  },
  {
   "cell_type": "code",
   "execution_count": 9,
   "id": "c935f679",
   "metadata": {
    "execution": {
     "iopub.execute_input": "2023-03-11T17:53:56.217361Z",
     "iopub.status.busy": "2023-03-11T17:53:56.216849Z",
     "iopub.status.idle": "2023-03-11T17:53:56.428570Z",
     "shell.execute_reply": "2023-03-11T17:53:56.426754Z",
     "shell.execute_reply.started": "2023-03-11T17:53:56.217306Z"
    }
   },
   "outputs": [
    {
     "data": {
      "text/html": [
       "<div>\n",
       "<style scoped>\n",
       "    .dataframe tbody tr th:only-of-type {\n",
       "        vertical-align: middle;\n",
       "    }\n",
       "\n",
       "    .dataframe tbody tr th {\n",
       "        vertical-align: top;\n",
       "    }\n",
       "\n",
       "    .dataframe thead th {\n",
       "        text-align: right;\n",
       "    }\n",
       "</style>\n",
       "<table border=\"1\" class=\"dataframe\">\n",
       "  <thead>\n",
       "    <tr style=\"text-align: right;\">\n",
       "      <th></th>\n",
       "      <th>FL_DATE</th>\n",
       "      <th>OP_CARRIER</th>\n",
       "      <th>OP_CARRIER_FL_NUM</th>\n",
       "      <th>ORIGIN</th>\n",
       "      <th>DEST</th>\n",
       "      <th>CRS_DEP_TIME</th>\n",
       "      <th>DEP_TIME</th>\n",
       "      <th>DEP_DELAY</th>\n",
       "      <th>TAXI_OUT</th>\n",
       "      <th>WHEELS_OFF</th>\n",
       "      <th>...</th>\n",
       "      <th>CRS_ELAPSED_TIME</th>\n",
       "      <th>ACTUAL_ELAPSED_TIME</th>\n",
       "      <th>AIR_TIME</th>\n",
       "      <th>DISTANCE</th>\n",
       "      <th>CARRIER_DELAY</th>\n",
       "      <th>WEATHER_DELAY</th>\n",
       "      <th>NAS_DELAY</th>\n",
       "      <th>SECURITY_DELAY</th>\n",
       "      <th>LATE_AIRCRAFT_DELAY</th>\n",
       "      <th>Unnamed: 27</th>\n",
       "    </tr>\n",
       "  </thead>\n",
       "  <tbody>\n",
       "    <tr>\n",
       "      <th>0</th>\n",
       "      <td>2018-01-01</td>\n",
       "      <td>UA</td>\n",
       "      <td>2429</td>\n",
       "      <td>EWR</td>\n",
       "      <td>DEN</td>\n",
       "      <td>1517</td>\n",
       "      <td>1512.0</td>\n",
       "      <td>-5.0</td>\n",
       "      <td>15.0</td>\n",
       "      <td>1527.0</td>\n",
       "      <td>...</td>\n",
       "      <td>268.0</td>\n",
       "      <td>250.0</td>\n",
       "      <td>225.0</td>\n",
       "      <td>1605.0</td>\n",
       "      <td>NaN</td>\n",
       "      <td>NaN</td>\n",
       "      <td>NaN</td>\n",
       "      <td>NaN</td>\n",
       "      <td>NaN</td>\n",
       "      <td>None</td>\n",
       "    </tr>\n",
       "    <tr>\n",
       "      <th>1</th>\n",
       "      <td>2018-01-01</td>\n",
       "      <td>UA</td>\n",
       "      <td>2427</td>\n",
       "      <td>LAS</td>\n",
       "      <td>SFO</td>\n",
       "      <td>1115</td>\n",
       "      <td>1107.0</td>\n",
       "      <td>-8.0</td>\n",
       "      <td>11.0</td>\n",
       "      <td>1118.0</td>\n",
       "      <td>...</td>\n",
       "      <td>99.0</td>\n",
       "      <td>83.0</td>\n",
       "      <td>65.0</td>\n",
       "      <td>414.0</td>\n",
       "      <td>NaN</td>\n",
       "      <td>NaN</td>\n",
       "      <td>NaN</td>\n",
       "      <td>NaN</td>\n",
       "      <td>NaN</td>\n",
       "      <td>None</td>\n",
       "    </tr>\n",
       "    <tr>\n",
       "      <th>2</th>\n",
       "      <td>2018-01-01</td>\n",
       "      <td>UA</td>\n",
       "      <td>2426</td>\n",
       "      <td>SNA</td>\n",
       "      <td>DEN</td>\n",
       "      <td>1335</td>\n",
       "      <td>1330.0</td>\n",
       "      <td>-5.0</td>\n",
       "      <td>15.0</td>\n",
       "      <td>1345.0</td>\n",
       "      <td>...</td>\n",
       "      <td>134.0</td>\n",
       "      <td>126.0</td>\n",
       "      <td>106.0</td>\n",
       "      <td>846.0</td>\n",
       "      <td>NaN</td>\n",
       "      <td>NaN</td>\n",
       "      <td>NaN</td>\n",
       "      <td>NaN</td>\n",
       "      <td>NaN</td>\n",
       "      <td>None</td>\n",
       "    </tr>\n",
       "    <tr>\n",
       "      <th>3</th>\n",
       "      <td>2018-01-01</td>\n",
       "      <td>UA</td>\n",
       "      <td>2425</td>\n",
       "      <td>RSW</td>\n",
       "      <td>ORD</td>\n",
       "      <td>1546</td>\n",
       "      <td>1552.0</td>\n",
       "      <td>6.0</td>\n",
       "      <td>19.0</td>\n",
       "      <td>1611.0</td>\n",
       "      <td>...</td>\n",
       "      <td>190.0</td>\n",
       "      <td>182.0</td>\n",
       "      <td>157.0</td>\n",
       "      <td>1120.0</td>\n",
       "      <td>NaN</td>\n",
       "      <td>NaN</td>\n",
       "      <td>NaN</td>\n",
       "      <td>NaN</td>\n",
       "      <td>NaN</td>\n",
       "      <td>None</td>\n",
       "    </tr>\n",
       "    <tr>\n",
       "      <th>4</th>\n",
       "      <td>2018-01-01</td>\n",
       "      <td>UA</td>\n",
       "      <td>2424</td>\n",
       "      <td>ORD</td>\n",
       "      <td>ALB</td>\n",
       "      <td>630</td>\n",
       "      <td>650.0</td>\n",
       "      <td>20.0</td>\n",
       "      <td>13.0</td>\n",
       "      <td>703.0</td>\n",
       "      <td>...</td>\n",
       "      <td>112.0</td>\n",
       "      <td>106.0</td>\n",
       "      <td>83.0</td>\n",
       "      <td>723.0</td>\n",
       "      <td>NaN</td>\n",
       "      <td>NaN</td>\n",
       "      <td>NaN</td>\n",
       "      <td>NaN</td>\n",
       "      <td>NaN</td>\n",
       "      <td>None</td>\n",
       "    </tr>\n",
       "  </tbody>\n",
       "</table>\n",
       "<p>5 rows × 28 columns</p>\n",
       "</div>"
      ],
      "text/plain": [
       "     FL_DATE OP_CARRIER  OP_CARRIER_FL_NUM ORIGIN DEST  CRS_DEP_TIME  \\\n",
       "0 2018-01-01         UA               2429    EWR  DEN          1517   \n",
       "1 2018-01-01         UA               2427    LAS  SFO          1115   \n",
       "2 2018-01-01         UA               2426    SNA  DEN          1335   \n",
       "3 2018-01-01         UA               2425    RSW  ORD          1546   \n",
       "4 2018-01-01         UA               2424    ORD  ALB           630   \n",
       "\n",
       "   DEP_TIME  DEP_DELAY  TAXI_OUT  WHEELS_OFF  ...  CRS_ELAPSED_TIME  \\\n",
       "0    1512.0       -5.0      15.0      1527.0  ...             268.0   \n",
       "1    1107.0       -8.0      11.0      1118.0  ...              99.0   \n",
       "2    1330.0       -5.0      15.0      1345.0  ...             134.0   \n",
       "3    1552.0        6.0      19.0      1611.0  ...             190.0   \n",
       "4     650.0       20.0      13.0       703.0  ...             112.0   \n",
       "\n",
       "   ACTUAL_ELAPSED_TIME  AIR_TIME  DISTANCE  CARRIER_DELAY  WEATHER_DELAY  \\\n",
       "0                250.0     225.0    1605.0            NaN            NaN   \n",
       "1                 83.0      65.0     414.0            NaN            NaN   \n",
       "2                126.0     106.0     846.0            NaN            NaN   \n",
       "3                182.0     157.0    1120.0            NaN            NaN   \n",
       "4                106.0      83.0     723.0            NaN            NaN   \n",
       "\n",
       "  NAS_DELAY  SECURITY_DELAY  LATE_AIRCRAFT_DELAY  Unnamed: 27  \n",
       "0       NaN             NaN                  NaN         None  \n",
       "1       NaN             NaN                  NaN         None  \n",
       "2       NaN             NaN                  NaN         None  \n",
       "3       NaN             NaN                  NaN         None  \n",
       "4       NaN             NaN                  NaN         None  \n",
       "\n",
       "[5 rows x 28 columns]"
      ]
     },
     "metadata": {},
     "output_type": "display_data"
    }
   ],
   "source": [
    "airline_pandas = airline.limit(5).toPandas()\n",
    "display(airline_pandas)"
   ]
  },
  {
   "cell_type": "code",
   "execution_count": 10,
   "id": "65c86da8",
   "metadata": {
    "execution": {
     "iopub.execute_input": "2023-03-11T17:53:56.438444Z",
     "iopub.status.busy": "2023-03-11T17:53:56.437311Z",
     "iopub.status.idle": "2023-03-11T17:53:56.449471Z",
     "shell.execute_reply": "2023-03-11T17:53:56.448151Z",
     "shell.execute_reply.started": "2023-03-11T17:53:56.438377Z"
    }
   },
   "outputs": [
    {
     "name": "stdout",
     "output_type": "stream",
     "text": [
      "root\n",
      " |-- FL_DATE: timestamp (nullable = true)\n",
      " |-- OP_CARRIER: string (nullable = true)\n",
      " |-- OP_CARRIER_FL_NUM: integer (nullable = true)\n",
      " |-- ORIGIN: string (nullable = true)\n",
      " |-- DEST: string (nullable = true)\n",
      " |-- CRS_DEP_TIME: integer (nullable = true)\n",
      " |-- DEP_TIME: double (nullable = true)\n",
      " |-- DEP_DELAY: double (nullable = true)\n",
      " |-- TAXI_OUT: double (nullable = true)\n",
      " |-- WHEELS_OFF: double (nullable = true)\n",
      " |-- WHEELS_ON: double (nullable = true)\n",
      " |-- TAXI_IN: double (nullable = true)\n",
      " |-- CRS_ARR_TIME: integer (nullable = true)\n",
      " |-- ARR_TIME: double (nullable = true)\n",
      " |-- ARR_DELAY: double (nullable = true)\n",
      " |-- CANCELLED: double (nullable = true)\n",
      " |-- CANCELLATION_CODE: string (nullable = true)\n",
      " |-- DIVERTED: double (nullable = true)\n",
      " |-- CRS_ELAPSED_TIME: double (nullable = true)\n",
      " |-- ACTUAL_ELAPSED_TIME: double (nullable = true)\n",
      " |-- AIR_TIME: double (nullable = true)\n",
      " |-- DISTANCE: double (nullable = true)\n",
      " |-- CARRIER_DELAY: double (nullable = true)\n",
      " |-- WEATHER_DELAY: double (nullable = true)\n",
      " |-- NAS_DELAY: double (nullable = true)\n",
      " |-- SECURITY_DELAY: double (nullable = true)\n",
      " |-- LATE_AIRCRAFT_DELAY: double (nullable = true)\n",
      " |-- Unnamed: 27: string (nullable = true)\n",
      "\n"
     ]
    }
   ],
   "source": [
    "airline.printSchema()  # getting the infomation about the schema i.e, columns and their datatypes"
   ]
  },
  {
   "cell_type": "code",
   "execution_count": 11,
   "id": "89d0f377",
   "metadata": {
    "execution": {
     "iopub.execute_input": "2023-03-11T17:53:56.451576Z",
     "iopub.status.busy": "2023-03-11T17:53:56.450988Z",
     "iopub.status.idle": "2023-03-11T17:53:56.459674Z",
     "shell.execute_reply": "2023-03-11T17:53:56.457759Z",
     "shell.execute_reply.started": "2023-03-11T17:53:56.451531Z"
    }
   },
   "outputs": [],
   "source": [
    "# checking how many null values are present in each of the columns in percentage\n",
    "\n",
    "# creating a function to find null values for the dataframe\n",
    "\n",
    "def null_values(df):\n",
    "    for i in df.columns:\n",
    "        print(i,(20-len(i))*\"-\",\">\",((df.filter(df[i].isNull()).count())/df.count())*100)\n",
    "   \n",
    "  \n",
    "# (df.filter(df[i].isNull()).count()--> returns total no of null values\n",
    "# (df.filter(df[i].isNull()).count())/df.count())*100  --> Percentage of null values present "
   ]
  },
  {
   "cell_type": "code",
   "execution_count": 12,
   "id": "e842d2bf",
   "metadata": {
    "execution": {
     "iopub.execute_input": "2023-03-11T17:53:56.462363Z",
     "iopub.status.busy": "2023-03-11T17:53:56.461719Z",
     "iopub.status.idle": "2023-03-11T17:58:07.240399Z",
     "shell.execute_reply": "2023-03-11T17:58:07.239373Z",
     "shell.execute_reply.started": "2023-03-11T17:53:56.462317Z"
    }
   },
   "outputs": [
    {
     "name": "stdout",
     "output_type": "stream",
     "text": [
      "FL_DATE ------------- > 0.0\n",
      "OP_CARRIER ---------- > 0.0\n",
      "OP_CARRIER_FL_NUM --- > 0.0\n",
      "ORIGIN -------------- > 0.0\n",
      "DEST ---------------- > 0.0\n",
      "CRS_DEP_TIME -------- > 0.0\n",
      "DEP_TIME ------------ > 1.5570505414471807\n",
      "DEP_DELAY ----------- > 1.6252149111534209\n",
      "TAXI_OUT ------------ > 1.6057512595228411\n",
      "WHEELS_OFF ---------- > 1.605737396523104\n",
      "WHEELS_ON ----------- > 1.653107266624024\n",
      "TAXI_IN ------------- > 1.653107266624024\n",
      "CRS_ARR_TIME -------- > 0.0\n",
      "ARR_TIME ------------ > 1.653093403624287\n",
      "ARR_DELAY ----------- > 1.8997854839420716\n",
      "CANCELLED ----------- > 0.0\n",
      "CANCELLATION_CODE --- > 98.38379603867556\n",
      "DIVERTED ------------ > 0.0\n",
      "CRS_ELAPSED_TIME ---- > 0.00013862999736880265\n",
      "ACTUAL_ELAPSED_TIME - > 1.8637694106256566\n",
      "AIR_TIME ------------ > 1.8637694106256566\n",
      "DISTANCE ------------ > 0.0\n",
      "CARRIER_DELAY ------- > 81.2473816259247\n",
      "WEATHER_DELAY ------- > 81.2473816259247\n",
      "NAS_DELAY ----------- > 81.2473816259247\n",
      "SECURITY_DELAY ------ > 81.2473816259247\n",
      "LATE_AIRCRAFT_DELAY - > 81.2473816259247\n",
      "Unnamed: 27 --------- > 100.0\n"
     ]
    }
   ],
   "source": [
    "null_values(airline)"
   ]
  },
  {
   "cell_type": "code",
   "execution_count": 13,
   "id": "dfb83228",
   "metadata": {
    "execution": {
     "iopub.execute_input": "2023-03-11T17:58:07.242433Z",
     "iopub.status.busy": "2023-03-11T17:58:07.242003Z",
     "iopub.status.idle": "2023-03-11T18:01:18.214569Z",
     "shell.execute_reply": "2023-03-11T18:01:18.213324Z",
     "shell.execute_reply.started": "2023-03-11T17:58:07.242396Z"
    }
   },
   "outputs": [
    {
     "name": "stdout",
     "output_type": "stream",
     "text": [
      "FL_DATE ------------- > 0.0\n",
      "OP_CARRIER ---------- > 0.0\n",
      "OP_CARRIER_FL_NUM --- > 0.0\n",
      "ORIGIN -------------- > 0.0\n",
      "DEST ---------------- > 0.0\n",
      "CRS_DEP_TIME -------- > 0.0\n",
      "DEP_TIME ------------ > 1.5570505414471807\n",
      "DEP_DELAY ----------- > 1.6252149111534209\n",
      "TAXI_OUT ------------ > 1.6057512595228411\n",
      "WHEELS_OFF ---------- > 1.605737396523104\n",
      "WHEELS_ON ----------- > 1.653107266624024\n",
      "TAXI_IN ------------- > 1.653107266624024\n",
      "CRS_ARR_TIME -------- > 0.0\n",
      "ARR_TIME ------------ > 1.653093403624287\n",
      "ARR_DELAY ----------- > 1.8997854839420716\n",
      "CANCELLED ----------- > 0.0\n",
      "CANCELLATION_CODE --- > 98.38379603867556\n",
      "DIVERTED ------------ > 0.0\n",
      "CRS_ELAPSED_TIME ---- > 0.00013862999736880265\n",
      "ACTUAL_ELAPSED_TIME - > 1.8637694106256566\n",
      "AIR_TIME ------------ > 1.8637694106256566\n",
      "DISTANCE ------------ > 0.0\n",
      "CARRIER_DELAY ------- > 81.2473816259247\n",
      "WEATHER_DELAY ------- > 81.2473816259247\n",
      "NAS_DELAY ----------- > 81.2473816259247\n",
      "SECURITY_DELAY ------ > 81.2473816259247\n",
      "LATE_AIRCRAFT_DELAY - > 81.2473816259247\n",
      "Unnamed: 27 --------- > 100.0\n"
     ]
    }
   ],
   "source": [
    "c=airline.count()\n",
    "for i in airline.columns:\n",
    "    print(i,(20-len(i))*\"-\",\">\",((airline.filter(airline[i].isNull()).count())/c)*100)"
   ]
  },
  {
   "cell_type": "code",
   "execution_count": 14,
   "id": "d8304b50",
   "metadata": {
    "execution": {
     "iopub.execute_input": "2023-03-11T18:01:18.216859Z",
     "iopub.status.busy": "2023-03-11T18:01:18.216506Z",
     "iopub.status.idle": "2023-03-11T18:01:18.223349Z",
     "shell.execute_reply": "2023-03-11T18:01:18.221681Z",
     "shell.execute_reply.started": "2023-03-11T18:01:18.216802Z"
    }
   },
   "outputs": [],
   "source": [
    "df=airline"
   ]
  },
  {
   "cell_type": "code",
   "execution_count": 15,
   "id": "4c2ab2f4",
   "metadata": {
    "execution": {
     "iopub.execute_input": "2023-03-11T18:01:18.225776Z",
     "iopub.status.busy": "2023-03-11T18:01:18.225437Z",
     "iopub.status.idle": "2023-03-11T18:05:22.771803Z",
     "shell.execute_reply": "2023-03-11T18:05:22.770358Z",
     "shell.execute_reply.started": "2023-03-11T18:01:18.225742Z"
    }
   },
   "outputs": [
    {
     "name": "stdout",
     "output_type": "stream",
     "text": [
      "+-------------------+----------+-----------------+------+----+------------+--------+---------+--------+----------+---------+-------+------------+--------+---------+---------+--------+----------------+-------------------+--------+--------+\n",
      "|            FL_DATE|OP_CARRIER|OP_CARRIER_FL_NUM|ORIGIN|DEST|CRS_DEP_TIME|DEP_TIME|DEP_DELAY|TAXI_OUT|WHEELS_OFF|WHEELS_ON|TAXI_IN|CRS_ARR_TIME|ARR_TIME|ARR_DELAY|CANCELLED|DIVERTED|CRS_ELAPSED_TIME|ACTUAL_ELAPSED_TIME|AIR_TIME|DISTANCE|\n",
      "+-------------------+----------+-----------------+------+----+------------+--------+---------+--------+----------+---------+-------+------------+--------+---------+---------+--------+----------------+-------------------+--------+--------+\n",
      "|2018-01-01 00:00:00|        UA|             2429|   EWR| DEN|        1517|  1512.0|     -5.0|    15.0|    1527.0|   1712.0|   10.0|        1745|  1722.0|    -23.0|      0.0|     0.0|           268.0|              250.0|   225.0|  1605.0|\n",
      "|2018-01-01 00:00:00|        UA|             2427|   LAS| SFO|        1115|  1107.0|     -8.0|    11.0|    1118.0|   1223.0|    7.0|        1254|  1230.0|    -24.0|      0.0|     0.0|            99.0|               83.0|    65.0|   414.0|\n",
      "|2018-01-01 00:00:00|        UA|             2426|   SNA| DEN|        1335|  1330.0|     -5.0|    15.0|    1345.0|   1631.0|    5.0|        1649|  1636.0|    -13.0|      0.0|     0.0|           134.0|              126.0|   106.0|   846.0|\n",
      "|2018-01-01 00:00:00|        UA|             2425|   RSW| ORD|        1546|  1552.0|      6.0|    19.0|    1611.0|   1748.0|    6.0|        1756|  1754.0|     -2.0|      0.0|     0.0|           190.0|              182.0|   157.0|  1120.0|\n",
      "|2018-01-01 00:00:00|        UA|             2424|   ORD| ALB|         630|   650.0|     20.0|    13.0|     703.0|    926.0|   10.0|         922|   936.0|     14.0|      0.0|     0.0|           112.0|              106.0|    83.0|   723.0|\n",
      "|2018-01-01 00:00:00|        UA|             2422|   ORD| OMA|        2241|  2244.0|      3.0|    15.0|    2259.0|      1.0|    2.0|          14|     3.0|    -11.0|      0.0|     0.0|            93.0|               79.0|    62.0|   416.0|\n",
      "|2018-01-01 00:00:00|        UA|             2421|   IAH| LAS|         750|   747.0|     -3.0|    14.0|     801.0|    854.0|    6.0|         916|   900.0|    -16.0|      0.0|     0.0|           206.0|              193.0|   173.0|  1222.0|\n",
      "|2018-01-01 00:00:00|        UA|             2420|   DEN| CID|        1324|  1318.0|     -6.0|    11.0|    1329.0|   1554.0|    6.0|        1619|  1600.0|    -19.0|      0.0|     0.0|           115.0|              102.0|    85.0|   692.0|\n",
      "|2018-01-01 00:00:00|        UA|             2419|   SMF| EWR|        2224|  2237.0|     13.0|    10.0|    2247.0|    627.0|    9.0|         638|   636.0|     -2.0|      0.0|     0.0|           314.0|              299.0|   280.0|  2500.0|\n",
      "|2018-01-01 00:00:00|        UA|             2418|   RIC| DEN|        1601|  1559.0|     -2.0|    12.0|    1611.0|   1748.0|    8.0|        1813|  1756.0|    -17.0|      0.0|     0.0|           252.0|              237.0|   217.0|  1482.0|\n",
      "|2018-01-01 00:00:00|        UA|             2417|   PDX| EWR|        2240|  2235.0|     -5.0|     9.0|    2244.0|    624.0|    7.0|         647|   631.0|    -16.0|      0.0|     0.0|           307.0|              296.0|   280.0|  2434.0|\n",
      "|2018-01-01 00:00:00|        UA|             2416|   ORD| CLE|        2059|  2300.0|    121.0|    24.0|    2324.0|    112.0|    8.0|        2311|   120.0|    129.0|      0.0|     0.0|            72.0|               80.0|    48.0|   316.0|\n",
      "|2018-01-01 00:00:00|        UA|             2415|   EWR| PDX|         825|   822.0|     -3.0|    15.0|     837.0|   1104.0|    5.0|        1135|  1109.0|    -26.0|      0.0|     0.0|           370.0|              347.0|   327.0|  2434.0|\n",
      "|2018-01-01 00:00:00|        UA|             2414|   EWR| ATL|        1044|  1055.0|     11.0|    11.0|    1106.0|   1310.0|    5.0|        1318|  1315.0|     -3.0|      0.0|     0.0|           154.0|              140.0|   124.0|   746.0|\n",
      "|2018-01-01 00:00:00|        UA|             2413|   ORD| BTV|        2114|  2230.0|     76.0|    14.0|    2244.0|    123.0|    5.0|          15|   128.0|     73.0|      0.0|     0.0|           121.0|              118.0|    99.0|   763.0|\n",
      "|2018-01-01 00:00:00|        UA|             2412|   MCO| LAX|         653|   747.0|     54.0|    14.0|     801.0|   1003.0|   22.0|         930|  1025.0|     55.0|      0.0|     0.0|           337.0|              338.0|   302.0|  2218.0|\n",
      "|2018-01-01 00:00:00|        UA|             2411|   EWR| SMF|        1810|  1922.0|     72.0|    16.0|    1938.0|   2157.0|    4.0|        2136|  2201.0|     25.0|      0.0|     0.0|           386.0|              339.0|   319.0|  2500.0|\n",
      "|2018-01-01 00:00:00|        UA|             2410|   RSW| EWR|        1250|  1337.0|     47.0|    12.0|    1349.0|   1600.0|    6.0|        1537|  1606.0|     29.0|      0.0|     0.0|           167.0|              149.0|   131.0|  1068.0|\n",
      "|2018-01-01 00:00:00|        UA|             2409|   IAH| JAC|         940|   934.0|     -6.0|    18.0|     952.0|   1156.0|    4.0|        1218|  1200.0|    -18.0|      0.0|     0.0|           218.0|              206.0|   184.0|  1265.0|\n",
      "|2018-01-01 00:00:00|        UA|             2408|   TYS| EWR|        1131|  1140.0|      9.0|     9.0|    1149.0|   1307.0|    5.0|        1333|  1312.0|    -21.0|      0.0|     0.0|           122.0|               92.0|    78.0|   631.0|\n",
      "+-------------------+----------+-----------------+------+----+------------+--------+---------+--------+----------+---------+-------+------------+--------+---------+---------+--------+----------------+-------------------+--------+--------+\n",
      "only showing top 20 rows\n",
      "\n"
     ]
    }
   ],
   "source": [
    "# Dropping columns with null values greater than 80%\n",
    "for i in df.columns:\n",
    "    if (((df.filter(df[i].isNull()).count())/df.count())*100)>80:\n",
    "        df=df.drop(i)\n",
    "        \n",
    "df.show()"
   ]
  },
  {
   "cell_type": "code",
   "execution_count": 16,
   "id": "7d0a1edc",
   "metadata": {
    "execution": {
     "iopub.execute_input": "2023-03-11T18:05:22.773786Z",
     "iopub.status.busy": "2023-03-11T18:05:22.773326Z",
     "iopub.status.idle": "2023-03-11T18:05:22.787333Z",
     "shell.execute_reply": "2023-03-11T18:05:22.785728Z",
     "shell.execute_reply.started": "2023-03-11T18:05:22.773737Z"
    }
   },
   "outputs": [
    {
     "data": {
      "text/plain": [
       "28"
      ]
     },
     "execution_count": 16,
     "metadata": {},
     "output_type": "execute_result"
    }
   ],
   "source": [
    "len(airline.columns)"
   ]
  },
  {
   "cell_type": "code",
   "execution_count": 17,
   "id": "b97028a2",
   "metadata": {
    "execution": {
     "iopub.execute_input": "2023-03-11T18:05:22.791633Z",
     "iopub.status.busy": "2023-03-11T18:05:22.790466Z",
     "iopub.status.idle": "2023-03-11T18:05:22.802243Z",
     "shell.execute_reply": "2023-03-11T18:05:22.800991Z",
     "shell.execute_reply.started": "2023-03-11T18:05:22.791568Z"
    }
   },
   "outputs": [
    {
     "data": {
      "text/plain": [
       "21"
      ]
     },
     "execution_count": 17,
     "metadata": {},
     "output_type": "execute_result"
    }
   ],
   "source": [
    "len(df.columns)"
   ]
  },
  {
   "cell_type": "code",
   "execution_count": 18,
   "id": "23dbacea",
   "metadata": {
    "execution": {
     "iopub.execute_input": "2023-03-11T18:05:22.806089Z",
     "iopub.status.busy": "2023-03-11T18:05:22.804716Z",
     "iopub.status.idle": "2023-03-11T18:05:22.814033Z",
     "shell.execute_reply": "2023-03-11T18:05:22.812733Z",
     "shell.execute_reply.started": "2023-03-11T18:05:22.806045Z"
    }
   },
   "outputs": [
    {
     "data": {
      "text/plain": [
       "['FL_DATE',\n",
       " 'OP_CARRIER',\n",
       " 'OP_CARRIER_FL_NUM',\n",
       " 'ORIGIN',\n",
       " 'DEST',\n",
       " 'CRS_DEP_TIME',\n",
       " 'DEP_TIME',\n",
       " 'DEP_DELAY',\n",
       " 'TAXI_OUT',\n",
       " 'WHEELS_OFF',\n",
       " 'WHEELS_ON',\n",
       " 'TAXI_IN',\n",
       " 'CRS_ARR_TIME',\n",
       " 'ARR_TIME',\n",
       " 'ARR_DELAY',\n",
       " 'CANCELLED',\n",
       " 'DIVERTED',\n",
       " 'CRS_ELAPSED_TIME',\n",
       " 'ACTUAL_ELAPSED_TIME',\n",
       " 'AIR_TIME',\n",
       " 'DISTANCE']"
      ]
     },
     "execution_count": 18,
     "metadata": {},
     "output_type": "execute_result"
    }
   ],
   "source": [
    "df.columns"
   ]
  },
  {
   "cell_type": "code",
   "execution_count": 19,
   "id": "c264b2d3",
   "metadata": {
    "execution": {
     "iopub.execute_input": "2023-03-11T18:05:22.815966Z",
     "iopub.status.busy": "2023-03-11T18:05:22.815574Z",
     "iopub.status.idle": "2023-03-11T18:05:22.828007Z",
     "shell.execute_reply": "2023-03-11T18:05:22.826346Z",
     "shell.execute_reply.started": "2023-03-11T18:05:22.815929Z"
    }
   },
   "outputs": [
    {
     "data": {
      "text/plain": [
       "['Unnamed: 27',\n",
       " 'CARRIER_DELAY',\n",
       " 'LATE_AIRCRAFT_DELAY',\n",
       " 'WEATHER_DELAY',\n",
       " 'NAS_DELAY',\n",
       " 'CANCELLATION_CODE',\n",
       " 'SECURITY_DELAY']"
      ]
     },
     "execution_count": 19,
     "metadata": {},
     "output_type": "execute_result"
    }
   ],
   "source": [
    "to_be_dropped=list(set(airline.columns) - set(df.columns))\n",
    "to_be_dropped"
   ]
  },
  {
   "cell_type": "code",
   "execution_count": 20,
   "id": "1406dfb3",
   "metadata": {
    "execution": {
     "iopub.execute_input": "2023-03-11T18:05:22.832575Z",
     "iopub.status.busy": "2023-03-11T18:05:22.831415Z",
     "iopub.status.idle": "2023-03-11T18:05:22.839735Z",
     "shell.execute_reply": "2023-03-11T18:05:22.838704Z",
     "shell.execute_reply.started": "2023-03-11T18:05:22.832533Z"
    }
   },
   "outputs": [
    {
     "data": {
      "text/plain": [
       "7"
      ]
     },
     "execution_count": 20,
     "metadata": {},
     "output_type": "execute_result"
    }
   ],
   "source": [
    "len(to_be_dropped)"
   ]
  },
  {
   "cell_type": "code",
   "execution_count": 21,
   "id": "b9ca6316",
   "metadata": {
    "execution": {
     "iopub.execute_input": "2023-03-11T18:05:22.842103Z",
     "iopub.status.busy": "2023-03-11T18:05:22.841415Z",
     "iopub.status.idle": "2023-03-11T18:08:25.258725Z",
     "shell.execute_reply": "2023-03-11T18:08:25.257260Z",
     "shell.execute_reply.started": "2023-03-11T18:05:22.842063Z"
    }
   },
   "outputs": [
    {
     "name": "stdout",
     "output_type": "stream",
     "text": [
      "FL_DATE ------------- > 0.0\n",
      "OP_CARRIER ---------- > 0.0\n",
      "OP_CARRIER_FL_NUM --- > 0.0\n",
      "ORIGIN -------------- > 0.0\n",
      "DEST ---------------- > 0.0\n",
      "CRS_DEP_TIME -------- > 0.0\n",
      "DEP_TIME ------------ > 1.5570505414471807\n",
      "DEP_DELAY ----------- > 1.6252149111534209\n",
      "TAXI_OUT ------------ > 1.6057512595228411\n",
      "WHEELS_OFF ---------- > 1.605737396523104\n",
      "WHEELS_ON ----------- > 1.653107266624024\n",
      "TAXI_IN ------------- > 1.653107266624024\n",
      "CRS_ARR_TIME -------- > 0.0\n",
      "ARR_TIME ------------ > 1.653093403624287\n",
      "ARR_DELAY ----------- > 1.8997854839420716\n",
      "CANCELLED ----------- > 0.0\n",
      "DIVERTED ------------ > 0.0\n",
      "CRS_ELAPSED_TIME ---- > 0.00013862999736880265\n",
      "ACTUAL_ELAPSED_TIME - > 1.8637694106256566\n",
      "AIR_TIME ------------ > 1.8637694106256566\n",
      "DISTANCE ------------ > 0.0\n"
     ]
    }
   ],
   "source": [
    "null_values(df)"
   ]
  },
  {
   "cell_type": "code",
   "execution_count": null,
   "id": "8b55f121",
   "metadata": {},
   "outputs": [],
   "source": []
  },
  {
   "cell_type": "code",
   "execution_count": 22,
   "id": "022ffcc7",
   "metadata": {
    "execution": {
     "iopub.execute_input": "2023-03-11T18:08:25.260722Z",
     "iopub.status.busy": "2023-03-11T18:08:25.260260Z",
     "iopub.status.idle": "2023-03-11T18:08:25.267650Z",
     "shell.execute_reply": "2023-03-11T18:08:25.266269Z",
     "shell.execute_reply.started": "2023-03-11T18:08:25.260669Z"
    }
   },
   "outputs": [],
   "source": [
    "\n",
    "from pyspark.sql.functions import to_date\n",
    "from pyspark.sql.functions import col\n"
   ]
  },
  {
   "cell_type": "code",
   "execution_count": 23,
   "id": "fcfd2579",
   "metadata": {
    "execution": {
     "iopub.execute_input": "2023-03-11T18:08:25.270890Z",
     "iopub.status.busy": "2023-03-11T18:08:25.269926Z",
     "iopub.status.idle": "2023-03-11T18:08:25.285033Z",
     "shell.execute_reply": "2023-03-11T18:08:25.283873Z",
     "shell.execute_reply.started": "2023-03-11T18:08:25.270765Z"
    }
   },
   "outputs": [
    {
     "name": "stdout",
     "output_type": "stream",
     "text": [
      "root\n",
      " |-- FL_DATE: timestamp (nullable = true)\n",
      " |-- OP_CARRIER: string (nullable = true)\n",
      " |-- OP_CARRIER_FL_NUM: integer (nullable = true)\n",
      " |-- ORIGIN: string (nullable = true)\n",
      " |-- DEST: string (nullable = true)\n",
      " |-- CRS_DEP_TIME: integer (nullable = true)\n",
      " |-- DEP_TIME: double (nullable = true)\n",
      " |-- DEP_DELAY: double (nullable = true)\n",
      " |-- TAXI_OUT: double (nullable = true)\n",
      " |-- WHEELS_OFF: double (nullable = true)\n",
      " |-- WHEELS_ON: double (nullable = true)\n",
      " |-- TAXI_IN: double (nullable = true)\n",
      " |-- CRS_ARR_TIME: integer (nullable = true)\n",
      " |-- ARR_TIME: double (nullable = true)\n",
      " |-- ARR_DELAY: double (nullable = true)\n",
      " |-- CANCELLED: double (nullable = true)\n",
      " |-- DIVERTED: double (nullable = true)\n",
      " |-- CRS_ELAPSED_TIME: double (nullable = true)\n",
      " |-- ACTUAL_ELAPSED_TIME: double (nullable = true)\n",
      " |-- AIR_TIME: double (nullable = true)\n",
      " |-- DISTANCE: double (nullable = true)\n",
      "\n"
     ]
    }
   ],
   "source": [
    "df.printSchema()"
   ]
  },
  {
   "cell_type": "code",
   "execution_count": 24,
   "id": "a5d02fdb",
   "metadata": {
    "execution": {
     "iopub.execute_input": "2023-03-11T18:08:25.287968Z",
     "iopub.status.busy": "2023-03-11T18:08:25.287243Z",
     "iopub.status.idle": "2023-03-11T18:08:25.318507Z",
     "shell.execute_reply": "2023-03-11T18:08:25.317516Z",
     "shell.execute_reply.started": "2023-03-11T18:08:25.287912Z"
    }
   },
   "outputs": [],
   "source": [
    "df=df.withColumn(\"FL_DATE\",to_date(col(\"FL_DATE\"),\"yyyy-MM-dd\"))"
   ]
  },
  {
   "cell_type": "code",
   "execution_count": 25,
   "id": "eedb4474",
   "metadata": {
    "execution": {
     "iopub.execute_input": "2023-03-11T18:08:25.319872Z",
     "iopub.status.busy": "2023-03-11T18:08:25.319545Z",
     "iopub.status.idle": "2023-03-11T18:08:25.358257Z",
     "shell.execute_reply": "2023-03-11T18:08:25.357225Z",
     "shell.execute_reply.started": "2023-03-11T18:08:25.319823Z"
    }
   },
   "outputs": [],
   "source": [
    "from pyspark.sql.types import StringType\n",
    "\n",
    "df = df.withColumn(\"OP_CARRIER_FL_NUM\",df[\"OP_CARRIER_FL_NUM\"].cast(StringType()))"
   ]
  },
  {
   "cell_type": "code",
   "execution_count": 26,
   "id": "e95141cb",
   "metadata": {
    "execution": {
     "iopub.execute_input": "2023-03-11T18:08:25.359964Z",
     "iopub.status.busy": "2023-03-11T18:08:25.359516Z",
     "iopub.status.idle": "2023-03-11T18:08:25.376754Z",
     "shell.execute_reply": "2023-03-11T18:08:25.375893Z",
     "shell.execute_reply.started": "2023-03-11T18:08:25.359918Z"
    }
   },
   "outputs": [
    {
     "data": {
      "text/plain": [
       "[('OP_CARRIER_FL_NUM', 'string')]"
      ]
     },
     "execution_count": 26,
     "metadata": {},
     "output_type": "execute_result"
    }
   ],
   "source": [
    "df.select('OP_CARRIER_FL_NUM').dtypes"
   ]
  },
  {
   "cell_type": "code",
   "execution_count": 27,
   "id": "66f50ef6",
   "metadata": {
    "execution": {
     "iopub.execute_input": "2023-03-11T18:08:25.377949Z",
     "iopub.status.busy": "2023-03-11T18:08:25.377658Z",
     "iopub.status.idle": "2023-03-11T18:08:32.880491Z",
     "shell.execute_reply": "2023-03-11T18:08:32.879114Z",
     "shell.execute_reply.started": "2023-03-11T18:08:25.377920Z"
    }
   },
   "outputs": [
    {
     "name": "stdout",
     "output_type": "stream",
     "text": [
      "+----------+\n",
      "|OP_CARRIER|\n",
      "+----------+\n",
      "|        UA|\n",
      "|        NK|\n",
      "|        AA|\n",
      "|        EV|\n",
      "|        B6|\n",
      "|        DL|\n",
      "|        OO|\n",
      "|        F9|\n",
      "|        YV|\n",
      "|        MQ|\n",
      "|        OH|\n",
      "|        HA|\n",
      "|        G4|\n",
      "|        YX|\n",
      "|        AS|\n",
      "|        VX|\n",
      "|        WN|\n",
      "|        9E|\n",
      "+----------+\n",
      "\n"
     ]
    }
   ],
   "source": [
    "df.select('OP_CARRIER').distinct().show()"
   ]
  },
  {
   "cell_type": "code",
   "execution_count": 28,
   "id": "97c7f3b7",
   "metadata": {
    "execution": {
     "iopub.execute_input": "2023-03-11T18:08:32.894202Z",
     "iopub.status.busy": "2023-03-11T18:08:32.890353Z",
     "iopub.status.idle": "2023-03-11T18:08:33.169539Z",
     "shell.execute_reply": "2023-03-11T18:08:33.168417Z",
     "shell.execute_reply.started": "2023-03-11T18:08:32.894139Z"
    }
   },
   "outputs": [],
   "source": [
    "from pyspark.sql.functions import regexp_replace\n",
    "\n",
    "l={'UA':'United Airlines',\n",
    "    'AS':'Alaska Airlines',\n",
    "    '9E':'Endeavor Air',\n",
    "    'B6':'JetBlue Airways',\n",
    "    'EV':'ExpressJet',\n",
    "    'F9':'Frontier Airlines',\n",
    "    'G4':'Allegiant Air',\n",
    "    'HA':'Hawaiian Airlines',\n",
    "    'MQ':'Envoy Air',\n",
    "    'NK':'Spirit Airlines',\n",
    "    'OH':'PSA Airlines',\n",
    "    'OO':'SkyWest Airlines',\n",
    "    'VX':'Virgin America',\n",
    "    'WN':'Southwest Airlines',\n",
    "    'YV':'Mesa Airline',\n",
    "    'YX':'Republic Airways',\n",
    "    'AA':'American Airlines',\n",
    "    'DL':'Delta Airlines'}\n",
    "\n",
    "# creating a dictionary l that maps airline codes to airline names.\n",
    "\n",
    "\n",
    "l=list(l.items())  # returns a list of key-value pairs,converts the dictionary to a list of tuples\n",
    "\n",
    "for i in range(18):\n",
    "    df=df.withColumn('OP_CARRIER', regexp_replace('OP_CARRIER', l[i][0], l[i][1]))\n",
    "    \n",
    "    \n",
    "    \n",
    "# loops over each key-value pair in the list using a for loop and assigns each key-value pair to the variable l[i].\n",
    "# the regexp_replace function is used to replace each occurrence of an airline code in the OP_CARRIER column of the\n",
    "# DataFrame with the corresponding airline name from the l dictionary.\n",
    "# E.g.\n",
    "#  l[i][0]: l[i][1]\n",
    "# 'UA':'United Airlines'"
   ]
  },
  {
   "cell_type": "code",
   "execution_count": 29,
   "id": "2b157947",
   "metadata": {
    "execution": {
     "iopub.execute_input": "2023-03-11T18:08:33.170951Z",
     "iopub.status.busy": "2023-03-11T18:08:33.170625Z",
     "iopub.status.idle": "2023-03-11T18:09:07.427223Z",
     "shell.execute_reply": "2023-03-11T18:09:07.426280Z",
     "shell.execute_reply.started": "2023-03-11T18:08:33.170918Z"
    }
   },
   "outputs": [
    {
     "name": "stdout",
     "output_type": "stream",
     "text": [
      "+------------------+\n",
      "|        OP_CARRIER|\n",
      "+------------------+\n",
      "|      Mesa Airline|\n",
      "|     Allegiant Air|\n",
      "|   United Airlines|\n",
      "|    Virgin America|\n",
      "| Hawaiian Airlines|\n",
      "|  Republic Airways|\n",
      "|        ExpressJet|\n",
      "|  SkyWest Airlines|\n",
      "| Frontier Airlines|\n",
      "|      Endeavor Air|\n",
      "| American Airlines|\n",
      "|   JetBlue Airways|\n",
      "|         Envoy Air|\n",
      "|    Delta Airlines|\n",
      "|      PSA Airlines|\n",
      "|   Alaska Airlines|\n",
      "|   Spirit Airlines|\n",
      "|Southwest Airlines|\n",
      "+------------------+\n",
      "\n"
     ]
    }
   ],
   "source": [
    "df.select('OP_CARRIER').distinct().show()"
   ]
  },
  {
   "cell_type": "code",
   "execution_count": null,
   "id": "52bee5f0",
   "metadata": {},
   "outputs": [],
   "source": []
  },
  {
   "cell_type": "markdown",
   "id": "6f4c4fd2",
   "metadata": {},
   "source": [
    "## Cancelled Flights"
   ]
  },
  {
   "cell_type": "code",
   "execution_count": 30,
   "id": "405dcfb0",
   "metadata": {
    "execution": {
     "iopub.execute_input": "2023-03-11T18:09:07.428574Z",
     "iopub.status.busy": "2023-03-11T18:09:07.428241Z",
     "iopub.status.idle": "2023-03-11T18:09:07.470021Z",
     "shell.execute_reply": "2023-03-11T18:09:07.468641Z",
     "shell.execute_reply.started": "2023-03-11T18:09:07.428537Z"
    }
   },
   "outputs": [
    {
     "data": {
      "text/plain": [
       "DataFrame[sum(CANCELLED): double]"
      ]
     },
     "execution_count": 30,
     "metadata": {},
     "output_type": "execute_result"
    }
   ],
   "source": [
    "df.agg({'CANCELLED': 'sum'})"
   ]
  },
  {
   "cell_type": "code",
   "execution_count": 31,
   "id": "effdcbc7",
   "metadata": {
    "execution": {
     "iopub.execute_input": "2023-03-11T18:09:07.471961Z",
     "iopub.status.busy": "2023-03-11T18:09:07.471491Z",
     "iopub.status.idle": "2023-03-11T18:09:14.802350Z",
     "shell.execute_reply": "2023-03-11T18:09:14.801134Z",
     "shell.execute_reply.started": "2023-03-11T18:09:07.471924Z"
    }
   },
   "outputs": [
    {
     "name": "stdout",
     "output_type": "stream",
     "text": [
      "+--------------+\n",
      "|sum(CANCELLED)|\n",
      "+--------------+\n",
      "|      116584.0|\n",
      "+--------------+\n",
      "\n"
     ]
    }
   ],
   "source": [
    "df.agg({'CANCELLED': 'sum'}).show()\n",
    "\n",
    "\n",
    "# The total number of cancelled flights in the CANCELLED column \n",
    "\n",
    "\n",
    "# agg(): This is a method of the DataFrame class that allows you to perform various aggregation operations on the DataFrame.\n",
    "\n",
    "# {'CANCELLED': 'sum'}: This is a dictionary that specifies the aggregation operation to be performed. \n",
    "# In this case, we want to compute the sum of the CANCELLED column, so we specify the key 'CANCELLED' and the value 'sum'. \n",
    "\n",
    "#show(): This is a method that displays the result of the aggregation operation. \n",
    "#        It is used to print the result to the console."
   ]
  },
  {
   "cell_type": "code",
   "execution_count": 32,
   "id": "35a84b62",
   "metadata": {
    "execution": {
     "iopub.execute_input": "2023-03-11T18:09:14.804200Z",
     "iopub.status.busy": "2023-03-11T18:09:14.803847Z",
     "iopub.status.idle": "2023-03-11T18:09:22.444650Z",
     "shell.execute_reply": "2023-03-11T18:09:22.443393Z",
     "shell.execute_reply.started": "2023-03-11T18:09:14.804165Z"
    }
   },
   "outputs": [
    {
     "name": "stdout",
     "output_type": "stream",
     "text": [
      "+---------+\n",
      "|CANCELLED|\n",
      "+---------+\n",
      "|      0.0|\n",
      "|      1.0|\n",
      "+---------+\n",
      "\n"
     ]
    }
   ],
   "source": [
    "df.select('CANCELLED').distinct().show() # unique values in the \"CANCELLED \"column"
   ]
  },
  {
   "cell_type": "markdown",
   "id": "090c3f0f",
   "metadata": {},
   "source": [
    "#### CANCELLED\n",
    "#### Flight Cancelled (1 = cancelled)\n",
    "#### Flight Not Cancelled (0 = not cancelled)\n"
   ]
  },
  {
   "cell_type": "code",
   "execution_count": 33,
   "id": "a429f89f",
   "metadata": {
    "execution": {
     "iopub.execute_input": "2023-03-11T18:09:22.446352Z",
     "iopub.status.busy": "2023-03-11T18:09:22.445923Z",
     "iopub.status.idle": "2023-03-11T18:09:22.477867Z",
     "shell.execute_reply": "2023-03-11T18:09:22.476372Z",
     "shell.execute_reply.started": "2023-03-11T18:09:22.446301Z"
    }
   },
   "outputs": [],
   "source": [
    "cancelled=df.filter(df['CANCELLED']>0) # Creating a Dataframe with only cancelled records"
   ]
  },
  {
   "cell_type": "code",
   "execution_count": 34,
   "id": "82889a40",
   "metadata": {
    "execution": {
     "iopub.execute_input": "2023-03-11T18:09:22.479794Z",
     "iopub.status.busy": "2023-03-11T18:09:22.479284Z",
     "iopub.status.idle": "2023-03-11T18:09:22.841053Z",
     "shell.execute_reply": "2023-03-11T18:09:22.839744Z",
     "shell.execute_reply.started": "2023-03-11T18:09:22.479716Z"
    }
   },
   "outputs": [
    {
     "name": "stdout",
     "output_type": "stream",
     "text": [
      "+----------+---------------+-----------------+------+----+------------+--------+---------+--------+----------+---------+-------+------------+--------+---------+---------+--------+----------------+-------------------+--------+--------+\n",
      "|   FL_DATE|     OP_CARRIER|OP_CARRIER_FL_NUM|ORIGIN|DEST|CRS_DEP_TIME|DEP_TIME|DEP_DELAY|TAXI_OUT|WHEELS_OFF|WHEELS_ON|TAXI_IN|CRS_ARR_TIME|ARR_TIME|ARR_DELAY|CANCELLED|DIVERTED|CRS_ELAPSED_TIME|ACTUAL_ELAPSED_TIME|AIR_TIME|DISTANCE|\n",
      "+----------+---------------+-----------------+------+----+------------+--------+---------+--------+----------+---------+-------+------------+--------+---------+---------+--------+----------------+-------------------+--------+--------+\n",
      "|2018-01-01|United Airlines|             2034|   IAH| MFE|        1440|    null|     null|    null|      null|     null|   null|        1601|    null|     null|      1.0|     0.0|            81.0|               null|    null|   316.0|\n",
      "|2018-01-01|United Airlines|              864|   LAS| SFO|        1744|    null|     null|    null|      null|     null|   null|        1926|    null|     null|      1.0|     0.0|           102.0|               null|    null|   414.0|\n",
      "|2018-01-01|United Airlines|              488|   MFE| IAH|        1726|    null|     null|    null|      null|     null|   null|        1844|    null|     null|      1.0|     0.0|            78.0|               null|    null|   316.0|\n",
      "|2018-01-01|Alaska Airlines|                5|   DCA| LAX|         910|    null|     null|    null|      null|     null|   null|        1230|    null|     null|      1.0|     0.0|           380.0|               null|    null|  2311.0|\n",
      "|2018-01-01|Alaska Airlines|               64|   WRG| KTN|        1623|    null|     null|    null|      null|     null|   null|        1655|    null|     null|      1.0|     0.0|            32.0|               null|    null|    82.0|\n",
      "|2018-01-01|Alaska Airlines|               65|   WRG| PSG|        1056|    null|     null|    null|      null|     null|   null|        1119|    null|     null|      1.0|     0.0|            23.0|               null|    null|    31.0|\n",
      "|2018-01-01|Alaska Airlines|               65|   PSG| JNU|        1204|    null|     null|    null|      null|     null|   null|        1249|    null|     null|      1.0|     0.0|            45.0|               null|    null|   123.0|\n",
      "|2018-01-01|Alaska Airlines|               73|   SIT| JNU|         600|    null|     null|    null|      null|     null|   null|         641|    null|     null|      1.0|     0.0|            41.0|               null|    null|    95.0|\n",
      "|2018-01-01|Alaska Airlines|              162|   FAI| ANC|         545|    null|     null|    null|      null|     null|   null|         652|    null|     null|      1.0|     0.0|            67.0|               null|    null|   261.0|\n",
      "|2018-01-01|Alaska Airlines|              313|   SFO| SEA|         500|    null|     null|    null|      null|     null|   null|         716|    null|     null|      1.0|     0.0|           136.0|               null|    null|   679.0|\n",
      "|2018-01-01|     ExpressJet|             2853|   SAF| DFW|         650|    null|     null|    null|      null|     null|   null|         946|    null|     null|      1.0|     0.0|           116.0|               null|    null|   551.0|\n",
      "|2018-01-01|     ExpressJet|             2857|   ROW| DFW|         700|    null|     null|    null|      null|     null|   null|         935|    null|     null|      1.0|     0.0|            95.0|               null|    null|   435.0|\n",
      "|2018-01-01|     ExpressJet|             2864|   COU| DFW|         545|    null|     null|    null|      null|     null|   null|         742|    null|     null|      1.0|     0.0|           117.0|               null|    null|   489.0|\n",
      "|2018-01-01|     ExpressJet|             2872|   DFW| GRK|         904|    null|     null|    null|      null|     null|   null|        1005|    null|     null|      1.0|     0.0|            61.0|               null|    null|   134.0|\n",
      "|2018-01-01|     ExpressJet|             2872|   GRK| DFW|        1035|    null|     null|    null|      null|     null|   null|        1135|    null|     null|      1.0|     0.0|            60.0|               null|    null|   134.0|\n",
      "|2018-01-01|     ExpressJet|             4004|   DCA| CLE|         645|    null|     null|    null|      null|     null|   null|         815|    null|     null|      1.0|     0.0|            90.0|               null|    null|   310.0|\n",
      "|2018-01-01|     ExpressJet|             4101|   IAH| BRO|        1005|    null|     null|    null|      null|     null|   null|        1130|    null|     null|      1.0|     0.0|            85.0|               null|    null|   308.0|\n",
      "|2018-01-01|     ExpressJet|             5456|   MSP| RIC|        1530|    null|     null|    null|      null|     null|   null|        1912|    null|     null|      1.0|     0.0|           162.0|               null|    null|   970.0|\n",
      "|2018-01-01|     ExpressJet|             4197|   IAH| LRD|        1005|    null|     null|    null|      null|     null|   null|        1133|    null|     null|      1.0|     0.0|            88.0|               null|    null|   301.0|\n",
      "|2018-01-01|     ExpressJet|             4217|   BRO| IAH|        1200|    null|     null|    null|      null|     null|   null|        1319|    null|     null|      1.0|     0.0|            79.0|               null|    null|   308.0|\n",
      "+----------+---------------+-----------------+------+----+------------+--------+---------+--------+----------+---------+-------+------------+--------+---------+---------+--------+----------------+-------------------+--------+--------+\n",
      "only showing top 20 rows\n",
      "\n"
     ]
    }
   ],
   "source": [
    "cancelled.show()"
   ]
  },
  {
   "cell_type": "markdown",
   "id": "9baa8985",
   "metadata": {},
   "source": [
    "Cancelled flights are not delayed flights\n",
    "\n",
    "If canceled, the flight didn't happen, and values are NaN\n",
    "\n",
    "We can filter out Canceled Flights for out analysis\n",
    "\n",
    "DEP_DELAY Actual Departure Time\n",
    "\n",
    "ARR_DELAY Total Delay on Arrival in minutes\n",
    "\n",
    "If both of these numbers are negative =>> there was no delay"
   ]
  },
  {
   "cell_type": "code",
   "execution_count": null,
   "id": "d2032836",
   "metadata": {},
   "outputs": [],
   "source": []
  },
  {
   "cell_type": "markdown",
   "id": "0a8e14fe",
   "metadata": {},
   "source": [
    "## Delayed Flights"
   ]
  },
  {
   "cell_type": "code",
   "execution_count": 35,
   "id": "f5f3c757",
   "metadata": {
    "execution": {
     "iopub.execute_input": "2023-03-11T18:09:22.842724Z",
     "iopub.status.busy": "2023-03-11T18:09:22.842301Z",
     "iopub.status.idle": "2023-03-11T18:09:22.985183Z",
     "shell.execute_reply": "2023-03-11T18:09:22.983792Z",
     "shell.execute_reply.started": "2023-03-11T18:09:22.842679Z"
    }
   },
   "outputs": [
    {
     "name": "stdout",
     "output_type": "stream",
     "text": [
      "+---------+\n",
      "|ARR_DELAY|\n",
      "+---------+\n",
      "|    -23.0|\n",
      "|    -24.0|\n",
      "|    -13.0|\n",
      "|     -2.0|\n",
      "|     14.0|\n",
      "|    -11.0|\n",
      "|    -16.0|\n",
      "|    -19.0|\n",
      "|     -2.0|\n",
      "|    -17.0|\n",
      "|    -16.0|\n",
      "|    129.0|\n",
      "|    -26.0|\n",
      "|     -3.0|\n",
      "|     73.0|\n",
      "|     55.0|\n",
      "|     25.0|\n",
      "|     29.0|\n",
      "|    -18.0|\n",
      "|    -21.0|\n",
      "+---------+\n",
      "only showing top 20 rows\n",
      "\n"
     ]
    }
   ],
   "source": [
    "# Total Delay on Arrival in minutes\n",
    "df.select('ARR_DELAY').show()\n"
   ]
  },
  {
   "cell_type": "markdown",
   "id": "2a19fffd",
   "metadata": {},
   "source": [
    "If a number is positive = flight delayed\n",
    "\n",
    "Since we're exploring only delayed flights, non-delayed should be discarded.\n",
    "\n",
    "The danger of keeping those is if we summarise for plotting for example, we'll get false data\n",
    "Sum of Delayed minutes will be less because of the negative numbers that will lessen the real delays\n",
    "\n",
    "Let's first define what a delayed flight is:\n",
    "A Delayed flight is a flight that arrives late at its destination.\n",
    "\n",
    "Flight can be delayed on departure but still, arrive on time = not a delayed flight"
   ]
  },
  {
   "cell_type": "code",
   "execution_count": 36,
   "id": "582ff4b4",
   "metadata": {
    "execution": {
     "iopub.execute_input": "2023-03-11T18:09:22.987818Z",
     "iopub.status.busy": "2023-03-11T18:09:22.987381Z",
     "iopub.status.idle": "2023-03-11T18:09:23.268366Z",
     "shell.execute_reply": "2023-03-11T18:09:23.267093Z",
     "shell.execute_reply.started": "2023-03-11T18:09:22.987770Z"
    }
   },
   "outputs": [
    {
     "name": "stdout",
     "output_type": "stream",
     "text": [
      "+----------+---------------+-----------------+------+----+------------+--------+---------+--------+----------+---------+-------+------------+--------+---------+---------+--------+----------------+-------------------+--------+--------+\n",
      "|   FL_DATE|     OP_CARRIER|OP_CARRIER_FL_NUM|ORIGIN|DEST|CRS_DEP_TIME|DEP_TIME|DEP_DELAY|TAXI_OUT|WHEELS_OFF|WHEELS_ON|TAXI_IN|CRS_ARR_TIME|ARR_TIME|ARR_DELAY|CANCELLED|DIVERTED|CRS_ELAPSED_TIME|ACTUAL_ELAPSED_TIME|AIR_TIME|DISTANCE|\n",
      "+----------+---------------+-----------------+------+----+------------+--------+---------+--------+----------+---------+-------+------------+--------+---------+---------+--------+----------------+-------------------+--------+--------+\n",
      "|2018-01-01|United Airlines|             2424|   ORD| ALB|         630|   650.0|     20.0|    13.0|     703.0|    926.0|   10.0|         922|   936.0|     14.0|      0.0|     0.0|           112.0|              106.0|    83.0|   723.0|\n",
      "|2018-01-01|United Airlines|             2416|   ORD| CLE|        2059|  2300.0|    121.0|    24.0|    2324.0|    112.0|    8.0|        2311|   120.0|    129.0|      0.0|     0.0|            72.0|               80.0|    48.0|   316.0|\n",
      "|2018-01-01|United Airlines|             2413|   ORD| BTV|        2114|  2230.0|     76.0|    14.0|    2244.0|    123.0|    5.0|          15|   128.0|     73.0|      0.0|     0.0|           121.0|              118.0|    99.0|   763.0|\n",
      "|2018-01-01|United Airlines|             2412|   MCO| LAX|         653|   747.0|     54.0|    14.0|     801.0|   1003.0|   22.0|         930|  1025.0|     55.0|      0.0|     0.0|           337.0|              338.0|   302.0|  2218.0|\n",
      "|2018-01-01|United Airlines|             2411|   EWR| SMF|        1810|  1922.0|     72.0|    16.0|    1938.0|   2157.0|    4.0|        2136|  2201.0|     25.0|      0.0|     0.0|           386.0|              339.0|   319.0|  2500.0|\n",
      "|2018-01-01|United Airlines|             2410|   RSW| EWR|        1250|  1337.0|     47.0|    12.0|    1349.0|   1600.0|    6.0|        1537|  1606.0|     29.0|      0.0|     0.0|           167.0|              149.0|   131.0|  1068.0|\n",
      "|2018-01-01|United Airlines|             2406|   EWR| TYS|         830|   844.0|     14.0|    20.0|     904.0|   1052.0|    3.0|        1049|  1055.0|      6.0|      0.0|     0.0|           139.0|              131.0|   108.0|   631.0|\n",
      "|2018-01-01|United Airlines|             2402|   JAC| EWR|        1343|  1351.0|      8.0|    38.0|    1429.0|   2003.0|   10.0|        1959|  2013.0|     14.0|      0.0|     0.0|           256.0|              262.0|   214.0|  1874.0|\n",
      "|2018-01-01|United Airlines|             2398|   MSY| EWR|        2043|  2131.0|     48.0|    10.0|    2141.0|     54.0|    7.0|          34|   101.0|     27.0|      0.0|     0.0|           171.0|              150.0|   133.0|  1167.0|\n",
      "|2018-01-01|United Airlines|             2384|   EWR| FLL|        1627|  1624.0|     -3.0|    38.0|    1702.0|   1938.0|    6.0|        1938|  1944.0|      6.0|      0.0|     0.0|           191.0|              200.0|   156.0|  1065.0|\n",
      "|2018-01-01|United Airlines|             2160|   ORD| MCI|        2030|  2111.0|     41.0|    21.0|    2132.0|   2230.0|    5.0|        2209|  2235.0|     26.0|      0.0|     0.0|            99.0|               84.0|    58.0|   403.0|\n",
      "|2018-01-01|United Airlines|             2155|   IND| ORD|        1822|  1956.0|     94.0|     9.0|    2005.0|   1947.0|    3.0|        1835|  1950.0|     75.0|      0.0|     0.0|            73.0|               54.0|    42.0|   177.0|\n",
      "|2018-01-01|United Airlines|             2154|   IAD| FLL|        1729|  1745.0|     16.0|    20.0|    1805.0|   2014.0|    6.0|        2009|  2020.0|     11.0|      0.0|     0.0|           160.0|              155.0|   129.0|   901.0|\n",
      "|2018-01-01|United Airlines|             2153|   EWR| BTV|        2145|  2359.0|    134.0|    12.0|      11.0|    102.0|    4.0|        2302|   106.0|    124.0|      0.0|     0.0|            77.0|               67.0|    51.0|   266.0|\n",
      "|2018-01-01|United Airlines|             2150|   LAX| SAN|         602|  1101.0|    299.0|    19.0|    1120.0|   1149.0|    3.0|         701|  1152.0|    291.0|      0.0|     0.0|            59.0|               51.0|    29.0|   109.0|\n",
      "|2018-01-01|United Airlines|             2148|   SAN| EWR|        2100|  2111.0|     11.0|    13.0|    2124.0|    453.0|    7.0|         459|   500.0|      1.0|      0.0|     0.0|           299.0|              289.0|   269.0|  2425.0|\n",
      "|2018-01-01|United Airlines|             2147|   EWR| ORD|        1646|  1658.0|     12.0|    17.0|    1715.0|   1811.0|   25.0|        1827|  1836.0|      9.0|      0.0|     0.0|           161.0|              158.0|   116.0|   719.0|\n",
      "|2018-01-01|United Airlines|             2145|   BDL| EWR|         600|   621.0|     21.0|    14.0|     635.0|    717.0|    4.0|         717|   721.0|      4.0|      0.0|     0.0|            77.0|               60.0|    42.0|   116.0|\n",
      "|2018-01-01|United Airlines|             2143|   SFO| SAN|         835|   830.0|     -5.0|    51.0|     921.0|   1032.0|    3.0|        1007|  1035.0|     28.0|      0.0|     0.0|            92.0|              125.0|    71.0|   447.0|\n",
      "|2018-01-01|United Airlines|             2137|   DEN| BZN|        2228|  2227.0|     -1.0|    33.0|    2300.0|     19.0|    6.0|          16|    25.0|      9.0|      0.0|     0.0|           108.0|              118.0|    79.0|   524.0|\n",
      "+----------+---------------+-----------------+------+----+------------+--------+---------+--------+----------+---------+-------+------------+--------+---------+---------+--------+----------------+-------------------+--------+--------+\n",
      "only showing top 20 rows\n",
      "\n"
     ]
    }
   ],
   "source": [
    "delay=df.filter(df['ARR_DELAY']>0)\n",
    "delay.show() \n",
    "\n",
    "#delay contains delayed flights only"
   ]
  },
  {
   "cell_type": "code",
   "execution_count": 37,
   "id": "70bfc943",
   "metadata": {
    "execution": {
     "iopub.execute_input": "2023-03-11T18:09:23.270095Z",
     "iopub.status.busy": "2023-03-11T18:09:23.269621Z",
     "iopub.status.idle": "2023-03-11T18:11:46.859412Z",
     "shell.execute_reply": "2023-03-11T18:11:46.858374Z",
     "shell.execute_reply.started": "2023-03-11T18:09:23.270048Z"
    }
   },
   "outputs": [
    {
     "name": "stdout",
     "output_type": "stream",
     "text": [
      "FL_DATE ------------- > 2516050\n",
      "OP_CARRIER ---------- > 2516050\n",
      "OP_CARRIER_FL_NUM --- > 2516050\n",
      "ORIGIN -------------- > 2516050\n",
      "DEST ---------------- > 2516050\n",
      "CRS_DEP_TIME -------- > 2516050\n",
      "DEP_TIME ------------ > 2516050\n",
      "DEP_DELAY ----------- > 2516050\n",
      "TAXI_OUT ------------ > 2516050\n",
      "WHEELS_OFF ---------- > 2516050\n",
      "WHEELS_ON ----------- > 2516050\n",
      "TAXI_IN ------------- > 2516050\n",
      "CRS_ARR_TIME -------- > 2516050\n",
      "ARR_TIME ------------ > 2516050\n",
      "ARR_DELAY ----------- > 2516050\n",
      "CANCELLED ----------- > 2516050\n",
      "DIVERTED ------------ > 2516050\n",
      "CRS_ELAPSED_TIME ---- > 2516050\n",
      "ACTUAL_ELAPSED_TIME - > 2516050\n",
      "AIR_TIME ------------ > 2516050\n",
      "DISTANCE ------------ > 2516050\n"
     ]
    }
   ],
   "source": [
    "for i in delay.columns:\n",
    "    print(i,(20-len(i))*\"-\",\">\",delay.count())\n"
   ]
  },
  {
   "cell_type": "code",
   "execution_count": 38,
   "id": "39f1847b",
   "metadata": {
    "execution": {
     "iopub.execute_input": "2023-03-11T18:11:46.862127Z",
     "iopub.status.busy": "2023-03-11T18:11:46.861154Z",
     "iopub.status.idle": "2023-03-11T18:11:46.913394Z",
     "shell.execute_reply": "2023-03-11T18:11:46.912313Z",
     "shell.execute_reply.started": "2023-03-11T18:11:46.862085Z"
    }
   },
   "outputs": [],
   "source": [
    "df=df.withColumn('ARR_DELAY',col('ARR_DELAY')/60)\n",
    "\n",
    "df=df.withColumn('DEP_DELAY',col('DEP_DELAY')/60) \n",
    "\n",
    "# The values in the 'ARR_DELAY' and 'DEP_DELAY' column are expressed in minutes, and it converts them to hours.\n",
    "# Total Delay on Departure in minutes-DEP_DELAY\n",
    "# Total Delay on Arrival in minutes-ARR_DELAY"
   ]
  },
  {
   "cell_type": "code",
   "execution_count": 41,
   "id": "1e3132de",
   "metadata": {
    "execution": {
     "iopub.execute_input": "2023-03-11T18:11:46.915879Z",
     "iopub.status.busy": "2023-03-11T18:11:46.915088Z",
     "iopub.status.idle": "2023-03-11T18:11:46.920643Z",
     "shell.execute_reply": "2023-03-11T18:11:46.919157Z",
     "shell.execute_reply.started": "2023-03-11T18:11:46.915802Z"
    }
   },
   "outputs": [],
   "source": [
    "# Save the DataFrame as a CSV file"
   ]
  },
  {
   "cell_type": "code",
   "execution_count": 42,
   "id": "b4a1f731",
   "metadata": {
    "execution": {
     "iopub.execute_input": "2023-03-11T18:11:46.923171Z",
     "iopub.status.busy": "2023-03-11T18:11:46.922464Z",
     "iopub.status.idle": "2023-03-11T18:13:02.576613Z",
     "shell.execute_reply": "2023-03-11T18:13:02.575173Z",
     "shell.execute_reply.started": "2023-03-11T18:11:46.923131Z"
    }
   },
   "outputs": [
    {
     "data": {
      "text/html": [
       "<div>\n",
       "<style scoped>\n",
       "    .dataframe tbody tr th:only-of-type {\n",
       "        vertical-align: middle;\n",
       "    }\n",
       "\n",
       "    .dataframe tbody tr th {\n",
       "        vertical-align: top;\n",
       "    }\n",
       "\n",
       "    .dataframe thead th {\n",
       "        text-align: right;\n",
       "    }\n",
       "</style>\n",
       "<table border=\"1\" class=\"dataframe\">\n",
       "  <thead>\n",
       "    <tr style=\"text-align: right;\">\n",
       "      <th></th>\n",
       "      <th>FL_DATE</th>\n",
       "      <th>OP_CARRIER</th>\n",
       "      <th>OP_CARRIER_FL_NUM</th>\n",
       "      <th>ORIGIN</th>\n",
       "      <th>DEST</th>\n",
       "      <th>CRS_DEP_TIME</th>\n",
       "      <th>DEP_TIME</th>\n",
       "      <th>DEP_DELAY</th>\n",
       "      <th>TAXI_OUT</th>\n",
       "      <th>WHEELS_OFF</th>\n",
       "      <th>...</th>\n",
       "      <th>TAXI_IN</th>\n",
       "      <th>CRS_ARR_TIME</th>\n",
       "      <th>ARR_TIME</th>\n",
       "      <th>ARR_DELAY</th>\n",
       "      <th>CANCELLED</th>\n",
       "      <th>DIVERTED</th>\n",
       "      <th>CRS_ELAPSED_TIME</th>\n",
       "      <th>ACTUAL_ELAPSED_TIME</th>\n",
       "      <th>AIR_TIME</th>\n",
       "      <th>DISTANCE</th>\n",
       "    </tr>\n",
       "  </thead>\n",
       "  <tbody>\n",
       "    <tr>\n",
       "      <th>0</th>\n",
       "      <td>2018-01-01</td>\n",
       "      <td>United Airlines</td>\n",
       "      <td>2424</td>\n",
       "      <td>ORD</td>\n",
       "      <td>ALB</td>\n",
       "      <td>630</td>\n",
       "      <td>650.0</td>\n",
       "      <td>20.0</td>\n",
       "      <td>13.0</td>\n",
       "      <td>703.0</td>\n",
       "      <td>...</td>\n",
       "      <td>10.0</td>\n",
       "      <td>922</td>\n",
       "      <td>936.0</td>\n",
       "      <td>14.0</td>\n",
       "      <td>0.0</td>\n",
       "      <td>0.0</td>\n",
       "      <td>112.0</td>\n",
       "      <td>106.0</td>\n",
       "      <td>83.0</td>\n",
       "      <td>723.0</td>\n",
       "    </tr>\n",
       "    <tr>\n",
       "      <th>1</th>\n",
       "      <td>2018-01-01</td>\n",
       "      <td>United Airlines</td>\n",
       "      <td>2416</td>\n",
       "      <td>ORD</td>\n",
       "      <td>CLE</td>\n",
       "      <td>2059</td>\n",
       "      <td>2300.0</td>\n",
       "      <td>121.0</td>\n",
       "      <td>24.0</td>\n",
       "      <td>2324.0</td>\n",
       "      <td>...</td>\n",
       "      <td>8.0</td>\n",
       "      <td>2311</td>\n",
       "      <td>120.0</td>\n",
       "      <td>129.0</td>\n",
       "      <td>0.0</td>\n",
       "      <td>0.0</td>\n",
       "      <td>72.0</td>\n",
       "      <td>80.0</td>\n",
       "      <td>48.0</td>\n",
       "      <td>316.0</td>\n",
       "    </tr>\n",
       "    <tr>\n",
       "      <th>2</th>\n",
       "      <td>2018-01-01</td>\n",
       "      <td>United Airlines</td>\n",
       "      <td>2413</td>\n",
       "      <td>ORD</td>\n",
       "      <td>BTV</td>\n",
       "      <td>2114</td>\n",
       "      <td>2230.0</td>\n",
       "      <td>76.0</td>\n",
       "      <td>14.0</td>\n",
       "      <td>2244.0</td>\n",
       "      <td>...</td>\n",
       "      <td>5.0</td>\n",
       "      <td>15</td>\n",
       "      <td>128.0</td>\n",
       "      <td>73.0</td>\n",
       "      <td>0.0</td>\n",
       "      <td>0.0</td>\n",
       "      <td>121.0</td>\n",
       "      <td>118.0</td>\n",
       "      <td>99.0</td>\n",
       "      <td>763.0</td>\n",
       "    </tr>\n",
       "    <tr>\n",
       "      <th>3</th>\n",
       "      <td>2018-01-01</td>\n",
       "      <td>United Airlines</td>\n",
       "      <td>2412</td>\n",
       "      <td>MCO</td>\n",
       "      <td>LAX</td>\n",
       "      <td>653</td>\n",
       "      <td>747.0</td>\n",
       "      <td>54.0</td>\n",
       "      <td>14.0</td>\n",
       "      <td>801.0</td>\n",
       "      <td>...</td>\n",
       "      <td>22.0</td>\n",
       "      <td>930</td>\n",
       "      <td>1025.0</td>\n",
       "      <td>55.0</td>\n",
       "      <td>0.0</td>\n",
       "      <td>0.0</td>\n",
       "      <td>337.0</td>\n",
       "      <td>338.0</td>\n",
       "      <td>302.0</td>\n",
       "      <td>2218.0</td>\n",
       "    </tr>\n",
       "    <tr>\n",
       "      <th>4</th>\n",
       "      <td>2018-01-01</td>\n",
       "      <td>United Airlines</td>\n",
       "      <td>2411</td>\n",
       "      <td>EWR</td>\n",
       "      <td>SMF</td>\n",
       "      <td>1810</td>\n",
       "      <td>1922.0</td>\n",
       "      <td>72.0</td>\n",
       "      <td>16.0</td>\n",
       "      <td>1938.0</td>\n",
       "      <td>...</td>\n",
       "      <td>4.0</td>\n",
       "      <td>2136</td>\n",
       "      <td>2201.0</td>\n",
       "      <td>25.0</td>\n",
       "      <td>0.0</td>\n",
       "      <td>0.0</td>\n",
       "      <td>386.0</td>\n",
       "      <td>339.0</td>\n",
       "      <td>319.0</td>\n",
       "      <td>2500.0</td>\n",
       "    </tr>\n",
       "  </tbody>\n",
       "</table>\n",
       "<p>5 rows × 21 columns</p>\n",
       "</div>"
      ],
      "text/plain": [
       "      FL_DATE       OP_CARRIER OP_CARRIER_FL_NUM ORIGIN DEST  CRS_DEP_TIME  \\\n",
       "0  2018-01-01  United Airlines              2424    ORD  ALB           630   \n",
       "1  2018-01-01  United Airlines              2416    ORD  CLE          2059   \n",
       "2  2018-01-01  United Airlines              2413    ORD  BTV          2114   \n",
       "3  2018-01-01  United Airlines              2412    MCO  LAX           653   \n",
       "4  2018-01-01  United Airlines              2411    EWR  SMF          1810   \n",
       "\n",
       "   DEP_TIME  DEP_DELAY  TAXI_OUT  WHEELS_OFF  ...  TAXI_IN  CRS_ARR_TIME  \\\n",
       "0     650.0       20.0      13.0       703.0  ...     10.0           922   \n",
       "1    2300.0      121.0      24.0      2324.0  ...      8.0          2311   \n",
       "2    2230.0       76.0      14.0      2244.0  ...      5.0            15   \n",
       "3     747.0       54.0      14.0       801.0  ...     22.0           930   \n",
       "4    1922.0       72.0      16.0      1938.0  ...      4.0          2136   \n",
       "\n",
       "   ARR_TIME  ARR_DELAY  CANCELLED  DIVERTED  CRS_ELAPSED_TIME  \\\n",
       "0     936.0       14.0        0.0       0.0             112.0   \n",
       "1     120.0      129.0        0.0       0.0              72.0   \n",
       "2     128.0       73.0        0.0       0.0             121.0   \n",
       "3    1025.0       55.0        0.0       0.0             337.0   \n",
       "4    2201.0       25.0        0.0       0.0             386.0   \n",
       "\n",
       "   ACTUAL_ELAPSED_TIME  AIR_TIME  DISTANCE  \n",
       "0                106.0      83.0     723.0  \n",
       "1                 80.0      48.0     316.0  \n",
       "2                118.0      99.0     763.0  \n",
       "3                338.0     302.0    2218.0  \n",
       "4                339.0     319.0    2500.0  \n",
       "\n",
       "[5 rows x 21 columns]"
      ]
     },
     "execution_count": 42,
     "metadata": {},
     "output_type": "execute_result"
    }
   ],
   "source": [
    "delay_Pandas = delay.toPandas()\n",
    "delay_Pandas.head()"
   ]
  },
  {
   "cell_type": "code",
   "execution_count": 43,
   "id": "b64ef4a4",
   "metadata": {
    "execution": {
     "iopub.execute_input": "2023-03-11T18:13:02.578417Z",
     "iopub.status.busy": "2023-03-11T18:13:02.578068Z",
     "iopub.status.idle": "2023-03-11T18:13:02.584235Z",
     "shell.execute_reply": "2023-03-11T18:13:02.582762Z",
     "shell.execute_reply.started": "2023-03-11T18:13:02.578383Z"
    }
   },
   "outputs": [],
   "source": [
    "delay_Pandas.to_csv('D:/Project airline/DATASET/Processed_df_18.csv')"
   ]
  },
  {
   "cell_type": "code",
   "execution_count": null,
   "id": "a7f8b5b0",
   "metadata": {},
   "outputs": [],
   "source": []
  },
  {
   "cell_type": "code",
   "execution_count": 44,
   "id": "3a8bf095",
   "metadata": {
    "execution": {
     "iopub.execute_input": "2023-03-11T18:13:02.586307Z",
     "iopub.status.busy": "2023-03-11T18:13:02.585819Z",
     "iopub.status.idle": "2023-03-11T18:13:02.598582Z",
     "shell.execute_reply": "2023-03-11T18:13:02.597383Z",
     "shell.execute_reply.started": "2023-03-11T18:13:02.586269Z"
    }
   },
   "outputs": [],
   "source": [
    "import matplotlib.pyplot as plt"
   ]
  },
  {
   "cell_type": "code",
   "execution_count": 45,
   "id": "6636c591",
   "metadata": {
    "execution": {
     "iopub.execute_input": "2023-03-11T18:13:02.602165Z",
     "iopub.status.busy": "2023-03-11T18:13:02.600464Z",
     "iopub.status.idle": "2023-03-11T18:13:42.506623Z",
     "shell.execute_reply": "2023-03-11T18:13:42.505434Z",
     "shell.execute_reply.started": "2023-03-11T18:13:02.602101Z"
    },
    "scrolled": true
   },
   "outputs": [
    {
     "data": {
      "image/png": "[encoded data removed]",
      "text/plain": [
       "<Figure size 2000x600 with 1 Axes>"
      ]
     },
     "metadata": {},
     "output_type": "display_data"
    }
   ],
   "source": [
    "import pandas as pd\n",
    "import pyspark.sql.functions as F\n",
    "\n",
    "\n",
    "# group by airline and count the number of flights\n",
    "flight_counts = df.groupBy('OP_CARRIER').agg(F.count('*').alias('flight_count'))\n",
    "\n",
    "# convert the PySpark DataFrame to a Pandas DataFrame\n",
    "flight_counts_pd = flight_counts.toPandas()\n",
    "\n",
    "# generate the bar plot using Pandas' plot method\n",
    "flight_counts_pd.plot.bar(x='OP_CARRIER', y='flight_count', figsize=(20,6))\n",
    "plt.title('Delays by AIRLINES', fontsize=16)\n",
    "plt.xlabel('Airline', fontsize=14)\n",
    "plt.ylabel('Number of flights', fontsize=14)\n",
    "plt.show()"
   ]
  },
  {
   "cell_type": "code",
   "execution_count": null,
   "id": "8a2187d6",
   "metadata": {},
   "outputs": [],
   "source": []
  },
  {
   "cell_type": "code",
   "execution_count": 46,
   "id": "e952dc4f",
   "metadata": {
    "execution": {
     "iopub.execute_input": "2023-03-11T18:17:18.076586Z",
     "iopub.status.busy": "2023-03-11T18:17:18.076030Z",
     "iopub.status.idle": "2023-03-11T18:17:18.083905Z",
     "shell.execute_reply": "2023-03-11T18:17:18.082013Z",
     "shell.execute_reply.started": "2023-03-11T18:17:18.076536Z"
    }
   },
   "outputs": [],
   "source": [
    "from pyspark.sql.functions import year\n",
    "from pyspark.sql.functions import month\n",
    "from pyspark.sql.functions import dayofweek"
   ]
  },
  {
   "cell_type": "code",
   "execution_count": null,
   "id": "54173e2c",
   "metadata": {},
   "outputs": [],
   "source": []
  },
  {
   "cell_type": "code",
   "execution_count": 47,
   "id": "8a003501",
   "metadata": {
    "execution": {
     "iopub.execute_input": "2023-03-11T18:17:23.871116Z",
     "iopub.status.busy": "2023-03-11T18:17:23.870693Z",
     "iopub.status.idle": "2023-03-11T18:17:23.919520Z",
     "shell.execute_reply": "2023-03-11T18:17:23.918517Z",
     "shell.execute_reply.started": "2023-03-11T18:17:23.871079Z"
    }
   },
   "outputs": [],
   "source": [
    "delay=delay.withColumn('FL_YEAR',year(delay.FL_DATE))\n",
    "delay=delay.withColumn('FL_MONTH',month(delay.FL_DATE))\n",
    "delay=delay.withColumn('FL_DAYOFWEEK',dayofweek(delay.FL_DATE))"
   ]
  },
  {
   "cell_type": "code",
   "execution_count": 48,
   "id": "67e24174",
   "metadata": {
    "execution": {
     "iopub.execute_input": "2023-03-11T18:17:25.075750Z",
     "iopub.status.busy": "2023-03-11T18:17:25.075300Z",
     "iopub.status.idle": "2023-03-11T18:17:25.132124Z",
     "shell.execute_reply": "2023-03-11T18:17:25.130996Z",
     "shell.execute_reply.started": "2023-03-11T18:17:25.075712Z"
    }
   },
   "outputs": [],
   "source": [
    "#Extract day of week and month\n",
    "df=df.withColumn('FL_DAYOFWEEK',dayofweek(df.FL_DATE))\n",
    "df=df.withColumn('FL_MONTH',month(df.FL_DATE))\n",
    "\n",
    "#Cast to double\n",
    "df=df.withColumn(\"FL_MONTH\",col(\"FL_MONTH\").cast('double'))\n",
    "df=df.withColumn(\"FL_DAYOFWEEK\",col(\"FL_DAYOFWEEK\").cast('double'))"
   ]
  },
  {
   "cell_type": "code",
   "execution_count": 49,
   "id": "2a57c2e8",
   "metadata": {
    "execution": {
     "iopub.execute_input": "2023-03-11T18:17:28.025216Z",
     "iopub.status.busy": "2023-03-11T18:17:28.024712Z",
     "iopub.status.idle": "2023-03-11T18:17:28.033444Z",
     "shell.execute_reply": "2023-03-11T18:17:28.031673Z",
     "shell.execute_reply.started": "2023-03-11T18:17:28.025170Z"
    }
   },
   "outputs": [
    {
     "name": "stdout",
     "output_type": "stream",
     "text": [
      "root\n",
      " |-- FL_DATE: date (nullable = true)\n",
      " |-- OP_CARRIER: string (nullable = true)\n",
      " |-- OP_CARRIER_FL_NUM: string (nullable = true)\n",
      " |-- ORIGIN: string (nullable = true)\n",
      " |-- DEST: string (nullable = true)\n",
      " |-- CRS_DEP_TIME: integer (nullable = true)\n",
      " |-- DEP_TIME: double (nullable = true)\n",
      " |-- DEP_DELAY: double (nullable = true)\n",
      " |-- TAXI_OUT: double (nullable = true)\n",
      " |-- WHEELS_OFF: double (nullable = true)\n",
      " |-- WHEELS_ON: double (nullable = true)\n",
      " |-- TAXI_IN: double (nullable = true)\n",
      " |-- CRS_ARR_TIME: integer (nullable = true)\n",
      " |-- ARR_TIME: double (nullable = true)\n",
      " |-- ARR_DELAY: double (nullable = true)\n",
      " |-- CANCELLED: double (nullable = true)\n",
      " |-- DIVERTED: double (nullable = true)\n",
      " |-- CRS_ELAPSED_TIME: double (nullable = true)\n",
      " |-- ACTUAL_ELAPSED_TIME: double (nullable = true)\n",
      " |-- AIR_TIME: double (nullable = true)\n",
      " |-- DISTANCE: double (nullable = true)\n",
      " |-- FL_DAYOFWEEK: double (nullable = true)\n",
      " |-- FL_MONTH: double (nullable = true)\n",
      "\n"
     ]
    }
   ],
   "source": [
    "df.printSchema()"
   ]
  },
  {
   "cell_type": "code",
   "execution_count": null,
   "id": "f71252f8",
   "metadata": {},
   "outputs": [],
   "source": []
  },
  {
   "cell_type": "markdown",
   "id": "56c776cf",
   "metadata": {},
   "source": [
    "# Spark SQL"
   ]
  },
  {
   "cell_type": "code",
   "execution_count": 50,
   "id": "7b44e178",
   "metadata": {
    "execution": {
     "iopub.execute_input": "2023-03-11T18:17:32.235710Z",
     "iopub.status.busy": "2023-03-11T18:17:32.235247Z",
     "iopub.status.idle": "2023-03-11T18:17:32.297895Z",
     "shell.execute_reply": "2023-03-11T18:17:32.296901Z",
     "shell.execute_reply.started": "2023-03-11T18:17:32.235665Z"
    }
   },
   "outputs": [],
   "source": [
    "df.createOrReplaceTempView(\"df\")"
   ]
  },
  {
   "cell_type": "markdown",
   "id": "b3243331",
   "metadata": {},
   "source": [
    "### Number Of Flights Cancelled in Each Month from 2018."
   ]
  },
  {
   "cell_type": "code",
   "execution_count": 51,
   "id": "0a701ca5",
   "metadata": {
    "execution": {
     "iopub.execute_input": "2023-03-11T18:17:34.518262Z",
     "iopub.status.busy": "2023-03-11T18:17:34.517860Z",
     "iopub.status.idle": "2023-03-11T18:17:43.167298Z",
     "shell.execute_reply": "2023-03-11T18:17:43.165594Z",
     "shell.execute_reply.started": "2023-03-11T18:17:34.518228Z"
    }
   },
   "outputs": [
    {
     "name": "stdout",
     "output_type": "stream",
     "text": [
      "+--------+---------------+\n",
      "|FL_MONTH|TOTAL_CANCELLED|\n",
      "+--------+---------------+\n",
      "|     1.0|          17169|\n",
      "|     2.0|           8976|\n",
      "|     3.0|          17280|\n",
      "|     4.0|           6251|\n",
      "|     5.0|           7155|\n",
      "|     6.0|          10694|\n",
      "|     7.0|          11083|\n",
      "|     8.0|          12353|\n",
      "|     9.0|           8132|\n",
      "|    10.0|           4485|\n",
      "|    11.0|           6254|\n",
      "|    12.0|           6752|\n",
      "+--------+---------------+\n",
      "\n"
     ]
    }
   ],
   "source": [
    "spark.sql(\"\"\"\n",
    " SELECT FL_MONTH, COUNT(CANCELLED) AS TOTAL_CANCELLED\n",
    " FROM df\n",
    " WHERE CANCELLED = 1\n",
    " GROUP BY FL_MONTH\n",
    " ORDER BY FL_MONTH\n",
    " LIMIT 50\n",
    "\"\"\").show()\n"
   ]
  },
  {
   "cell_type": "markdown",
   "id": "ff0d0728",
   "metadata": {},
   "source": [
    "### Number Of Flights Detoured in Each Month in 2018"
   ]
  },
  {
   "cell_type": "code",
   "execution_count": 52,
   "id": "58caedb8",
   "metadata": {
    "execution": {
     "iopub.execute_input": "2023-03-11T18:17:43.170380Z",
     "iopub.status.busy": "2023-03-11T18:17:43.169640Z",
     "iopub.status.idle": "2023-03-11T18:18:22.980472Z",
     "shell.execute_reply": "2023-03-11T18:18:22.978951Z",
     "shell.execute_reply.started": "2023-03-11T18:17:43.170324Z"
    }
   },
   "outputs": [
    {
     "name": "stdout",
     "output_type": "stream",
     "text": [
      "+------+----------------+-----------------+\n",
      "|origin|count(cancelled)|       op_carrier|\n",
      "+------+----------------+-----------------+\n",
      "|   SLC|              16|     Mesa Airline|\n",
      "|   PWM|              62|       ExpressJet|\n",
      "|   TOL|              14| SkyWest Airlines|\n",
      "|   HNL|              15|American Airlines|\n",
      "|   ROW|               1|     Mesa Airline|\n",
      "|   MIA|              39|Frontier Airlines|\n",
      "|   MYR|              15|   Delta Airlines|\n",
      "|   BTR|              77|       ExpressJet|\n",
      "|   CMH|              20|     Mesa Airline|\n",
      "|   GSP|              11|   Delta Airlines|\n",
      "|   EUG|              12| SkyWest Airlines|\n",
      "|   PIT|              30|     Mesa Airline|\n",
      "|   AUS|              13| Republic Airways|\n",
      "|   FAR|               8|       ExpressJet|\n",
      "|   EVV|               7| SkyWest Airlines|\n",
      "|   GSO|              66|       ExpressJet|\n",
      "|   CLT|              55| SkyWest Airlines|\n",
      "|   GGG|              29|        Envoy Air|\n",
      "|   DEN|             199|Frontier Airlines|\n",
      "|   MKG|              39| SkyWest Airlines|\n",
      "+------+----------------+-----------------+\n",
      "only showing top 20 rows\n",
      "\n"
     ]
    }
   ],
   "source": [
    "spark.sql(\"\"\"\n",
    " SELECT origin, COUNT(cancelled), op_carrier\n",
    " FROM df where cancelled = 1\n",
    " GROUP BY origin, op_carrier\n",
    "\"\"\").show()"
   ]
  },
  {
   "cell_type": "markdown",
   "id": "29638a3f",
   "metadata": {},
   "source": [
    "### Most cancelled flight "
   ]
  },
  {
   "cell_type": "code",
   "execution_count": 53,
   "id": "88cd0617",
   "metadata": {
    "execution": {
     "iopub.execute_input": "2023-03-11T18:18:22.982339Z",
     "iopub.status.busy": "2023-03-11T18:18:22.981891Z",
     "iopub.status.idle": "2023-03-11T18:18:57.085191Z",
     "shell.execute_reply": "2023-03-11T18:18:57.083698Z",
     "shell.execute_reply.started": "2023-03-11T18:18:22.982289Z"
    }
   },
   "outputs": [
    {
     "name": "stdout",
     "output_type": "stream",
     "text": [
      "+------------------+-----+\n",
      "|        op_carrier|Total|\n",
      "+------------------+-----+\n",
      "|Southwest Airlines|18275|\n",
      "| American Airlines|14945|\n",
      "|      PSA Airlines|11870|\n",
      "|         Envoy Air|10655|\n",
      "|  SkyWest Airlines|10610|\n",
      "|  Republic Airways|10100|\n",
      "|   JetBlue Airways| 6419|\n",
      "|      Endeavor Air| 6355|\n",
      "|        ExpressJet| 5670|\n",
      "|      Mesa Airline| 5530|\n",
      "+------------------+-----+\n",
      "\n"
     ]
    }
   ],
   "source": [
    "spark.sql(\"\"\" SELECT op_carrier, COUNT(cancelled) AS Total\n",
    "FROM df where cancelled = 1\n",
    "GROUP BY cancelled, op_carrier\n",
    "ORDER BY Total desc\n",
    "LIMIT 10\n",
    "\"\"\").show()"
   ]
  },
  {
   "cell_type": "markdown",
   "id": "878cd060",
   "metadata": {},
   "source": [
    "### No. Of Flights canceled from origin city by airline fights in each year i.e.,2018."
   ]
  },
  {
   "cell_type": "code",
   "execution_count": 54,
   "id": "c6d9bfa9",
   "metadata": {
    "execution": {
     "iopub.execute_input": "2023-03-11T18:24:47.191432Z",
     "iopub.status.busy": "2023-03-11T18:24:47.190961Z",
     "iopub.status.idle": "2023-03-11T18:25:19.144569Z",
     "shell.execute_reply": "2023-03-11T18:25:19.143055Z",
     "shell.execute_reply.started": "2023-03-11T18:24:47.191396Z"
    }
   },
   "outputs": [
    {
     "name": "stdout",
     "output_type": "stream",
     "text": [
      "+------+----------------+-----------------+\n",
      "|origin|count(cancelled)|       op_carrier|\n",
      "+------+----------------+-----------------+\n",
      "|   SLC|              16|     Mesa Airline|\n",
      "|   PWM|              62|       ExpressJet|\n",
      "|   TOL|              14| SkyWest Airlines|\n",
      "|   HNL|              15|American Airlines|\n",
      "|   ROW|               1|     Mesa Airline|\n",
      "|   MIA|              39|Frontier Airlines|\n",
      "|   MYR|              15|   Delta Airlines|\n",
      "|   BTR|              77|       ExpressJet|\n",
      "|   CMH|              20|     Mesa Airline|\n",
      "|   GSP|              11|   Delta Airlines|\n",
      "|   EUG|              12| SkyWest Airlines|\n",
      "|   PIT|              30|     Mesa Airline|\n",
      "|   AUS|              13| Republic Airways|\n",
      "|   FAR|               8|       ExpressJet|\n",
      "|   EVV|               7| SkyWest Airlines|\n",
      "|   GSO|              66|       ExpressJet|\n",
      "|   CLT|              55| SkyWest Airlines|\n",
      "|   GGG|              29|        Envoy Air|\n",
      "|   DEN|             199|Frontier Airlines|\n",
      "|   MKG|              39| SkyWest Airlines|\n",
      "+------+----------------+-----------------+\n",
      "only showing top 20 rows\n",
      "\n"
     ]
    }
   ],
   "source": [
    "spark.sql(\"\"\"\n",
    " SELECT origin, COUNT(cancelled), op_carrier\n",
    " FROM df where cancelled = 1\n",
    " GROUP BY origin, op_carrier\n",
    "\"\"\").show()"
   ]
  },
  {
   "cell_type": "markdown",
   "id": "68d50856",
   "metadata": {},
   "source": [
    "### Flight has least amount of delay(planed departure = actual departure)"
   ]
  },
  {
   "cell_type": "code",
   "execution_count": 55,
   "id": "73c39fa5",
   "metadata": {
    "execution": {
     "iopub.execute_input": "2023-03-11T18:24:20.133136Z",
     "iopub.status.busy": "2023-03-11T18:24:20.131924Z",
     "iopub.status.idle": "2023-03-11T18:24:29.944492Z",
     "shell.execute_reply": "2023-03-11T18:24:29.943150Z",
     "shell.execute_reply.started": "2023-03-11T18:24:20.133083Z"
    }
   },
   "outputs": [
    {
     "name": "stdout",
     "output_type": "stream",
     "text": [
      "+-----------------+------------------+\n",
      "|OP_CARRIER_FL_NUM|         min_delay|\n",
      "+-----------------+------------------+\n",
      "|             1664|0.1333333333333333|\n",
      "+-----------------+------------------+\n",
      "\n"
     ]
    }
   ],
   "source": [
    "spark.sql(\"\"\"SELECT OP_CARRIER_FL_NUM, MIN(abs(CRS_DEP_TIME - DEP_DELAY)) AS min_delay\n",
    "FROM df \n",
    "GROUP BY OP_CARRIER_FL_NUM\n",
    "ORDER BY min_delay ASC\n",
    "LIMIT 1\n",
    "\"\"\").show()"
   ]
  },
  {
   "cell_type": "markdown",
   "id": "9ed97976",
   "metadata": {},
   "source": [
    "### Airport has high delay(busy) most of the time"
   ]
  },
  {
   "cell_type": "code",
   "execution_count": 56,
   "id": "d3e2fac3",
   "metadata": {
    "execution": {
     "iopub.execute_input": "2023-03-11T18:26:02.915817Z",
     "iopub.status.busy": "2023-03-11T18:26:02.914509Z",
     "iopub.status.idle": "2023-03-11T18:26:11.752264Z",
     "shell.execute_reply": "2023-03-11T18:26:11.751284Z",
     "shell.execute_reply.started": "2023-03-11T18:26:02.915753Z"
    }
   },
   "outputs": [
    {
     "name": "stdout",
     "output_type": "stream",
     "text": [
      "+------+------------------+\n",
      "|origin|         avg_delay|\n",
      "+------+------------------+\n",
      "|   DVL|2.3069841269841267|\n",
      "+------+------------------+\n",
      "\n"
     ]
    }
   ],
   "source": [
    "spark.sql(\"\"\"SELECT origin, AVG(dep_delay) AS avg_delay\n",
    "FROM df\n",
    "WHERE dep_delay > 0\n",
    "GROUP BY origin\n",
    "ORDER BY avg_delay DESC\n",
    "LIMIT 1\n",
    "\"\"\").show()"
   ]
  },
  {
   "cell_type": "markdown",
   "id": "efa38fc9",
   "metadata": {},
   "source": [
    "### Airports having least amount of wheels off time (operations and management is good)"
   ]
  },
  {
   "cell_type": "code",
   "execution_count": 57,
   "id": "777de536",
   "metadata": {
    "execution": {
     "iopub.execute_input": "2023-03-11T18:44:38.749797Z",
     "iopub.status.busy": "2023-03-11T18:44:38.749359Z",
     "iopub.status.idle": "2023-03-11T18:44:47.731439Z",
     "shell.execute_reply": "2023-03-11T18:44:47.729937Z",
     "shell.execute_reply.started": "2023-03-11T18:44:38.749758Z"
    }
   },
   "outputs": [
    {
     "name": "stdout",
     "output_type": "stream",
     "text": [
      "+------+------------------+\n",
      "|origin|       avg_wo_time|\n",
      "+------+------------------+\n",
      "|   OWB|11.046728971962617|\n",
      "|   SMX|12.064705882352941|\n",
      "|   OTZ|12.238095238095237|\n",
      "|   OME|12.361794500723589|\n",
      "|   HYA|12.511363636363637|\n",
      "|   BKG|12.956521739130435|\n",
      "|   YAK|13.530898876404494|\n",
      "|   OGD|            13.744|\n",
      "|   BRW|13.880952380952381|\n",
      "|   LWS| 14.12290502793296|\n",
      "+------+------------------+\n",
      "\n"
     ]
    }
   ],
   "source": [
    "spark.sql(\"\"\"SELECT origin, avg(abs(wheels_off - DEP_TIME)) AS avg_wo_time\n",
    "FROM df\n",
    "GROUP BY origin\n",
    "ORDER BY avg_wo_time ASC\n",
    "LIMIT 10\n",
    "\"\"\").show()"
   ]
  },
  {
   "cell_type": "markdown",
   "id": "70d5a228",
   "metadata": {},
   "source": [
    "### Airports having high amount of wheels off time (operations and management is bad)"
   ]
  },
  {
   "cell_type": "code",
   "execution_count": 58,
   "id": "40fe2d29",
   "metadata": {
    "execution": {
     "iopub.execute_input": "2023-03-11T18:45:10.275107Z",
     "iopub.status.busy": "2023-03-11T18:45:10.274582Z",
     "iopub.status.idle": "2023-03-11T18:45:19.313204Z",
     "shell.execute_reply": "2023-03-11T18:45:19.311873Z",
     "shell.execute_reply.started": "2023-03-11T18:45:10.275064Z"
    }
   },
   "outputs": [
    {
     "name": "stdout",
     "output_type": "stream",
     "text": [
      "+------+------------------+\n",
      "|origin|       avg_wo_time|\n",
      "+------+------------------+\n",
      "|   PPG|208.65573770491804|\n",
      "|   JMS| 78.96924708377519|\n",
      "|   FAI| 74.44431869624265|\n",
      "|   SFO| 64.54136955030467|\n",
      "|   LAX| 64.39248391459367|\n",
      "|   JFK| 61.90717272842479|\n",
      "|   YNG|              58.5|\n",
      "|   ANC| 57.92597246503497|\n",
      "|   UIN|   49.270207852194|\n",
      "|   LGA| 48.57906184693933|\n",
      "+------+------------------+\n",
      "\n"
     ]
    }
   ],
   "source": [
    "spark.sql(\"\"\"SELECT origin, avg(abs(wheels_off - DEP_TIME)) AS avg_wo_time\n",
    "FROM df\n",
    "GROUP BY origin\n",
    "ORDER BY avg_wo_time desc\n",
    "LIMIT 10\n",
    "\"\"\").show()"
   ]
  },
  {
   "cell_type": "markdown",
   "id": "6beaf866",
   "metadata": {},
   "source": [
    "### Most appropriate time to reach at airport for travelers "
   ]
  },
  {
   "cell_type": "code",
   "execution_count": 59,
   "id": "8958f8ff",
   "metadata": {
    "execution": {
     "iopub.execute_input": "2023-03-11T18:49:38.324952Z",
     "iopub.status.busy": "2023-03-11T18:49:38.324479Z",
     "iopub.status.idle": "2023-03-11T18:49:46.377786Z",
     "shell.execute_reply": "2023-03-11T18:49:46.376428Z",
     "shell.execute_reply.started": "2023-03-11T18:49:38.324909Z"
    }
   },
   "outputs": [
    {
     "name": "stdout",
     "output_type": "stream",
     "text": [
      "+------------------+\n",
      "|        REACH_TIME|\n",
      "+------------------+\n",
      "|34.781221267773056|\n",
      "+------------------+\n",
      "\n"
     ]
    }
   ],
   "source": [
    "spark.sql(\"\"\" select sum(abs(CRS_DEP_TIME - DEP_TIME))/count(DEP_TIME) as REACH_TIME from df\"\"\").show()"
   ]
  },
  {
   "cell_type": "markdown",
   "id": "780c0ada",
   "metadata": {},
   "source": [
    "# Feature Transformation"
   ]
  },
  {
   "cell_type": "code",
   "execution_count": 60,
   "id": "52ed62c9",
   "metadata": {
    "execution": {
     "iopub.execute_input": "2023-03-11T16:03:42.532526Z",
     "iopub.status.busy": "2023-03-11T16:03:42.532099Z",
     "iopub.status.idle": "2023-03-11T16:03:42.555744Z",
     "shell.execute_reply": "2023-03-11T16:03:42.554610Z",
     "shell.execute_reply.started": "2023-03-11T16:03:42.532488Z"
    }
   },
   "outputs": [],
   "source": [
    "bd1 = delay.withColumn('Delayed', (delay.ARR_DELAY >=10).cast('int'))"
   ]
  },
  {
   "cell_type": "markdown",
   "id": "0bfaa4c3",
   "metadata": {},
   "source": [
    "It adds a new column to the DataFrame named 'Delayed'. The value of the 'Delayed' column is calculated based on the value of the 'ARR_DELAY' column in each row.\n",
    "\n",
    "If the 'ARR_DELAY' value is greater than or equal to 10 minutes, then the 'Delayed' value will be set to 1 (cast as an integer). Otherwise, if the 'ARR_DELAY' value is less than 10 minutes, then the 'Delayed' value will be set to 0 (cast as an integer).\n",
    "\n",
    "In other words, this code is identifying flights that experienced a delay of 10 minutes or more and flagging them with a value of 1 in the 'Delayed' column. This can be useful for further analysis or modeling purposes, as delayed flights may be of particular interest or concern.\n",
    "\n",
    "The cast('int') function call is necessary because the >= operator returns a boolean value (True or False). The cast() function is used to convert this boolean value to an integer (1 or 0) that can be stored in the 'Delayed' column."
   ]
  },
  {
   "cell_type": "code",
   "execution_count": 61,
   "id": "5e0a0e88",
   "metadata": {
    "execution": {
     "iopub.execute_input": "2023-03-11T16:03:43.280557Z",
     "iopub.status.busy": "2023-03-11T16:03:43.280128Z",
     "iopub.status.idle": "2023-03-11T16:03:50.440902Z",
     "shell.execute_reply": "2023-03-11T16:03:50.439637Z",
     "shell.execute_reply.started": "2023-03-11T16:03:43.280520Z"
    }
   },
   "outputs": [
    {
     "name": "stdout",
     "output_type": "stream",
     "text": [
      "+-------+\n",
      "|Delayed|\n",
      "+-------+\n",
      "|      1|\n",
      "|      0|\n",
      "+-------+\n",
      "\n"
     ]
    }
   ],
   "source": [
    "bd1.select('Delayed').distinct().show() # Delayed flights"
   ]
  },
  {
   "cell_type": "code",
   "execution_count": 62,
   "id": "650396a3",
   "metadata": {
    "execution": {
     "iopub.execute_input": "2023-03-11T16:03:50.443078Z",
     "iopub.status.busy": "2023-03-11T16:03:50.442766Z",
     "iopub.status.idle": "2023-03-11T16:03:50.496594Z",
     "shell.execute_reply": "2023-03-11T16:03:50.495595Z",
     "shell.execute_reply.started": "2023-03-11T16:03:50.443047Z"
    }
   },
   "outputs": [],
   "source": [
    "bd1.createOrReplaceTempView(\"bd1\")\n",
    "\n",
    "# The createOrReplaceTempView() function is a PySpark DataFrame API function \n",
    "# that creates or replaces a temporary view with the specified name in Spark's SQL engine."
   ]
  },
  {
   "cell_type": "code",
   "execution_count": 63,
   "id": "ba1b3199",
   "metadata": {
    "execution": {
     "iopub.execute_input": "2023-03-11T16:03:50.500783Z",
     "iopub.status.busy": "2023-03-11T16:03:50.500284Z",
     "iopub.status.idle": "2023-03-11T16:03:50.654265Z",
     "shell.execute_reply": "2023-03-11T16:03:50.652940Z",
     "shell.execute_reply.started": "2023-03-11T16:03:50.500733Z"
    }
   },
   "outputs": [],
   "source": [
    "bd1 = spark.sql(\"select *, case \\\n",
    "               when DEP_TIME <= 800 then 1 \\\n",
    "               when 800 < DEP_TIME and DEP_TIME <= 1200 then 2 \\\n",
    "               when 1200 < DEP_TIME and DEP_TIME <= 1600 then 3 \\\n",
    "               when 1600 < DEP_TIME and DEP_TIME <= 2100 then 4 \\\n",
    "               else 1 end as TimeSlot \\\n",
    "               from bd1\")"
   ]
  },
  {
   "cell_type": "markdown",
   "id": "7cf1cbe2",
   "metadata": {},
   "source": [
    "The query adds a new column to the bd1 DataFrame named 'TimeSlot'. The value of the 'TimeSlot' column is determined based on the value of the 'DEP_TIME' column in each row.\n",
    "\n",
    "The CASE statement in the SQL query is used to map each departure time to a time slot. If the departure time is before or equal to 8:00 AM (800 hours), it is assigned a time slot of 1. If the departure time is between 8:00 AM and 12:00 PM (1200 hours), it is assigned a time slot of 2. If the departure time is between 12:00 PM and 4:00 PM (1600 hours), it is assigned a time slot of 3. If the departure time is between 4:00 PM and 9:00 PM (2100 hours), it is assigned a time slot of 4.\n",
    "\n",
    "\n",
    "If the departure time falls outside of these time ranges (i.e., if it is after 9:00 PM), it is assigned a time slot of 1 again.\n",
    "\n",
    "Creating a new categorical variable that can be used to group flights by time of day. This can be useful for further analysis or modeling purposes, as flights that depart at different times of day may have different characteristics or behavior patterns"
   ]
  },
  {
   "cell_type": "code",
   "execution_count": 64,
   "id": "edbe52cd",
   "metadata": {},
   "outputs": [],
   "source": [
    "from pyspark.ml.feature import StringIndexer"
   ]
  },
  {
   "cell_type": "markdown",
   "id": "f06fd053",
   "metadata": {},
   "source": [
    "##### The StringIndexer class is a feature transformer in PySpark that can be used to convert categorical string columns to numerical indices. It assigns a unique index to each distinct value in a given column, with the most frequent value receiving index 0."
   ]
  },
  {
   "cell_type": "code",
   "execution_count": 65,
   "id": "8b87ea5a",
   "metadata": {},
   "outputs": [
    {
     "name": "stdout",
     "output_type": "stream",
     "text": [
      "+------------------+-------------+------+\n",
      "|        OP_CARRIER|INDEX_CARRIER| count|\n",
      "+------------------+-------------+------+\n",
      "|Southwest Airlines|          0.0|513106|\n",
      "| American Airlines|          1.0|336974|\n",
      "|  SkyWest Airlines|          2.0|265057|\n",
      "|    Delta Airlines|          3.0|261185|\n",
      "|   United Airlines|          4.0|214528|\n",
      "|   JetBlue Airways|          5.0|126936|\n",
      "|      PSA Airlines|          6.0|106844|\n",
      "|         Envoy Air|          7.0|105492|\n",
      "|  Republic Airways|          8.0|100386|\n",
      "|   Alaska Airlines|          9.0| 84597|\n",
      "|      Mesa Airline|         10.0| 79640|\n",
      "|      Endeavor Air|         11.0| 73316|\n",
      "|        ExpressJet|         12.0| 68244|\n",
      "|   Spirit Airlines|         13.0| 56368|\n",
      "| Frontier Airlines|         14.0| 52413|\n",
      "|     Allegiant Air|         15.0| 37177|\n",
      "| Hawaiian Airlines|         16.0| 27449|\n",
      "|    Virgin America|         17.0|  6338|\n",
      "+------------------+-------------+------+\n",
      "\n"
     ]
    }
   ],
   "source": [
    "\n",
    "indexer1 = StringIndexer(inputCol='OP_CARRIER',outputCol='INDEX_CARRIER') \n",
    "bd2=indexer1.fit(bd1).transform(bd1)\n",
    "\n",
    "indexer2 = StringIndexer(inputCol='ORIGIN',outputCol='INDEX_ORIGIN') \n",
    "bd3=indexer2.fit(bd2).transform(bd2)\n",
    "\n",
    "bd3.groupBy('OP_CARRIER','INDEX_CARRIER').count().sort('INDEX_CARRIER').show()"
   ]
  },
  {
   "cell_type": "markdown",
   "id": "17c8b733",
   "metadata": {},
   "source": [
    "Creating a StringIndexer instance named indexer1 with inputCol='OP_CARRIER' and outputCol='INDEX_CARRIER'.\n",
    "\n",
    "Applying the indexer1 estimator to the bd1 DataFrame using the fit() and transform() methods to create a new DataFrame named bd2 with an additional column named 'INDEX_CARRIER'. This column contains numerical indices corresponding to the distinct values in the 'OP_CARRIER' column.\n",
    "\n",
    "Creating another StringIndexer instance named indexer2 with inputCol='ORIGIN' and outputCol='INDEX_ORIGIN'.\n",
    "\n",
    "Applying the indexer2 estimator to the bd2 DataFrame using the fit() and transform() methods to create a new DataFrame named bd3 with an additional column named 'INDEX_ORIGIN'. This column contains numerical indices corresponding to the distinct values in the 'ORIGIN' column.\n",
    "\n",
    "Grouping the bd3 DataFrame by 'OP_CARRIER' and 'INDEX_CARRIER', counting the number of occurrences of each combination, and sorting the result by 'INDEX_CARRIER'."
   ]
  },
  {
   "cell_type": "code",
   "execution_count": 66,
   "id": "f0b9af6b",
   "metadata": {},
   "outputs": [
    {
     "data": {
      "text/plain": [
       "-0.008709912602623097"
      ]
     },
     "execution_count": 66,
     "metadata": {},
     "output_type": "execute_result"
    }
   ],
   "source": [
    "from pyspark.sql.functions import *\n",
    "\n",
    "delay.stat.corr('FL_DAYOFWEEK','ARR_DELAY')"
   ]
  },
  {
   "cell_type": "markdown",
   "id": "24303416",
   "metadata": {},
   "source": [
    "The delay.stat.corr('FL_DAYOFWEEK','ARR_DELAY') code computes the Pearson correlation coefficient between the 'FL_DAYOFWEEK' column (which represents the day of the week of the flight) and the 'ARR_DELAY' column (which represents the arrival delay of the flight in minutes) in the delay DataFrame. \n",
    "\n",
    "The resulting value indicates the strength and direction of the linear relationship between these variables, with higher absolute values indicating stronger correlations."
   ]
  },
  {
   "cell_type": "code",
   "execution_count": null,
   "id": "fdb74bff",
   "metadata": {},
   "outputs": [],
   "source": []
  },
  {
   "cell_type": "markdown",
   "id": "ac6d94b0",
   "metadata": {},
   "source": [
    "# Feature Selection "
   ]
  },
  {
   "cell_type": "code",
   "execution_count": 67,
   "id": "f81b284e",
   "metadata": {},
   "outputs": [
    {
     "data": {
      "text/html": [
       "<div>\n",
       "<style scoped>\n",
       "    .dataframe tbody tr th:only-of-type {\n",
       "        vertical-align: middle;\n",
       "    }\n",
       "\n",
       "    .dataframe tbody tr th {\n",
       "        vertical-align: top;\n",
       "    }\n",
       "\n",
       "    .dataframe thead th {\n",
       "        text-align: right;\n",
       "    }\n",
       "</style>\n",
       "<table border=\"1\" class=\"dataframe\">\n",
       "  <thead>\n",
       "    <tr style=\"text-align: right;\">\n",
       "      <th></th>\n",
       "      <th>DEP_DELAY</th>\n",
       "      <th>DISTANCE</th>\n",
       "      <th>FL_DAYOFWEEK</th>\n",
       "      <th>INDEX_CARRIER</th>\n",
       "      <th>TimeSlot</th>\n",
       "      <th>Delayed</th>\n",
       "      <th>FL_MONTH</th>\n",
       "      <th>ACTUAL_ELAPSED_TIME</th>\n",
       "      <th>INDEX_ORIGIN</th>\n",
       "    </tr>\n",
       "  </thead>\n",
       "  <tbody>\n",
       "    <tr>\n",
       "      <th>0</th>\n",
       "      <td>20.0</td>\n",
       "      <td>723.0</td>\n",
       "      <td>2</td>\n",
       "      <td>4.0</td>\n",
       "      <td>1</td>\n",
       "      <td>1</td>\n",
       "      <td>1</td>\n",
       "      <td>106.0</td>\n",
       "      <td>0.0</td>\n",
       "    </tr>\n",
       "    <tr>\n",
       "      <th>1</th>\n",
       "      <td>121.0</td>\n",
       "      <td>316.0</td>\n",
       "      <td>2</td>\n",
       "      <td>4.0</td>\n",
       "      <td>1</td>\n",
       "      <td>1</td>\n",
       "      <td>1</td>\n",
       "      <td>80.0</td>\n",
       "      <td>0.0</td>\n",
       "    </tr>\n",
       "    <tr>\n",
       "      <th>2</th>\n",
       "      <td>76.0</td>\n",
       "      <td>763.0</td>\n",
       "      <td>2</td>\n",
       "      <td>4.0</td>\n",
       "      <td>1</td>\n",
       "      <td>1</td>\n",
       "      <td>1</td>\n",
       "      <td>118.0</td>\n",
       "      <td>0.0</td>\n",
       "    </tr>\n",
       "    <tr>\n",
       "      <th>3</th>\n",
       "      <td>54.0</td>\n",
       "      <td>2218.0</td>\n",
       "      <td>2</td>\n",
       "      <td>4.0</td>\n",
       "      <td>1</td>\n",
       "      <td>1</td>\n",
       "      <td>1</td>\n",
       "      <td>338.0</td>\n",
       "      <td>13.0</td>\n",
       "    </tr>\n",
       "    <tr>\n",
       "      <th>4</th>\n",
       "      <td>72.0</td>\n",
       "      <td>2500.0</td>\n",
       "      <td>2</td>\n",
       "      <td>4.0</td>\n",
       "      <td>4</td>\n",
       "      <td>1</td>\n",
       "      <td>1</td>\n",
       "      <td>339.0</td>\n",
       "      <td>11.0</td>\n",
       "    </tr>\n",
       "    <tr>\n",
       "      <th>5</th>\n",
       "      <td>47.0</td>\n",
       "      <td>1068.0</td>\n",
       "      <td>2</td>\n",
       "      <td>4.0</td>\n",
       "      <td>3</td>\n",
       "      <td>1</td>\n",
       "      <td>1</td>\n",
       "      <td>149.0</td>\n",
       "      <td>50.0</td>\n",
       "    </tr>\n",
       "    <tr>\n",
       "      <th>6</th>\n",
       "      <td>14.0</td>\n",
       "      <td>631.0</td>\n",
       "      <td>2</td>\n",
       "      <td>4.0</td>\n",
       "      <td>2</td>\n",
       "      <td>0</td>\n",
       "      <td>1</td>\n",
       "      <td>131.0</td>\n",
       "      <td>11.0</td>\n",
       "    </tr>\n",
       "    <tr>\n",
       "      <th>7</th>\n",
       "      <td>8.0</td>\n",
       "      <td>1874.0</td>\n",
       "      <td>2</td>\n",
       "      <td>4.0</td>\n",
       "      <td>3</td>\n",
       "      <td>1</td>\n",
       "      <td>1</td>\n",
       "      <td>262.0</td>\n",
       "      <td>146.0</td>\n",
       "    </tr>\n",
       "    <tr>\n",
       "      <th>8</th>\n",
       "      <td>48.0</td>\n",
       "      <td>1167.0</td>\n",
       "      <td>2</td>\n",
       "      <td>4.0</td>\n",
       "      <td>1</td>\n",
       "      <td>1</td>\n",
       "      <td>1</td>\n",
       "      <td>150.0</td>\n",
       "      <td>36.0</td>\n",
       "    </tr>\n",
       "    <tr>\n",
       "      <th>9</th>\n",
       "      <td>-3.0</td>\n",
       "      <td>1065.0</td>\n",
       "      <td>2</td>\n",
       "      <td>4.0</td>\n",
       "      <td>4</td>\n",
       "      <td>0</td>\n",
       "      <td>1</td>\n",
       "      <td>200.0</td>\n",
       "      <td>11.0</td>\n",
       "    </tr>\n",
       "  </tbody>\n",
       "</table>\n",
       "</div>"
      ],
      "text/plain": [
       "   DEP_DELAY  DISTANCE  FL_DAYOFWEEK  INDEX_CARRIER  TimeSlot  Delayed  \\\n",
       "0       20.0     723.0             2            4.0         1        1   \n",
       "1      121.0     316.0             2            4.0         1        1   \n",
       "2       76.0     763.0             2            4.0         1        1   \n",
       "3       54.0    2218.0             2            4.0         1        1   \n",
       "4       72.0    2500.0             2            4.0         4        1   \n",
       "5       47.0    1068.0             2            4.0         3        1   \n",
       "6       14.0     631.0             2            4.0         2        0   \n",
       "7        8.0    1874.0             2            4.0         3        1   \n",
       "8       48.0    1167.0             2            4.0         1        1   \n",
       "9       -3.0    1065.0             2            4.0         4        0   \n",
       "\n",
       "   FL_MONTH  ACTUAL_ELAPSED_TIME  INDEX_ORIGIN  \n",
       "0         1                106.0           0.0  \n",
       "1         1                 80.0           0.0  \n",
       "2         1                118.0           0.0  \n",
       "3         1                338.0          13.0  \n",
       "4         1                339.0          11.0  \n",
       "5         1                149.0          50.0  \n",
       "6         1                131.0          11.0  \n",
       "7         1                262.0         146.0  \n",
       "8         1                150.0          36.0  \n",
       "9         1                200.0          11.0  "
      ]
     },
     "execution_count": 67,
     "metadata": {},
     "output_type": "execute_result"
    }
   ],
   "source": [
    "bd4=bd3.select('DEP_DELAY',\n",
    "             'DISTANCE', \n",
    "             'FL_DAYOFWEEK',\n",
    "             'INDEX_CARRIER', \n",
    "             'TimeSlot',\n",
    "             'Delayed',\n",
    "             'FL_MONTH',\n",
    "             'ACTUAL_ELAPSED_TIME',\n",
    "             'INDEX_ORIGIN')\n",
    "             \n",
    "bd4.limit(10).toPandas()"
   ]
  },
  {
   "cell_type": "code",
   "execution_count": null,
   "id": "5cf324d9",
   "metadata": {},
   "outputs": [],
   "source": []
  },
  {
   "cell_type": "markdown",
   "id": "6d6f1eb9",
   "metadata": {},
   "source": [
    "# Imputing Null values"
   ]
  },
  {
   "cell_type": "code",
   "execution_count": 68,
   "id": "14f75be3",
   "metadata": {},
   "outputs": [
    {
     "name": "stdout",
     "output_type": "stream",
     "text": [
      "DEP_DELAY ----------- > 0.047574571252558574\n",
      "DISTANCE ------------ > 0.0\n",
      "FL_DAYOFWEEK -------- > 0.0\n",
      "INDEX_CARRIER ------- > 0.0\n",
      "TimeSlot ------------ > 0.0\n",
      "Delayed ------------- > 0.0\n",
      "FL_MONTH ------------ > 0.0\n",
      "ACTUAL_ELAPSED_TIME - > 3.974483813914668e-05\n",
      "INDEX_ORIGIN -------- > 0.0\n"
     ]
    }
   ],
   "source": [
    "null_values(bd4)"
   ]
  },
  {
   "cell_type": "code",
   "execution_count": 69,
   "id": "e0e8a71b",
   "metadata": {},
   "outputs": [],
   "source": [
    "from pyspark.ml.feature import Imputer\n"
   ]
  },
  {
   "cell_type": "code",
   "execution_count": 70,
   "id": "1ce2316e",
   "metadata": {},
   "outputs": [],
   "source": [
    "imputer = Imputer(\n",
    "    inputCols = bd4.columns,\n",
    "    outputCols = [\"{}\".format(a) for a in bd4.columns]\n",
    ").setStrategy(\"median\")"
   ]
  },
  {
   "cell_type": "markdown",
   "id": "1eff945a",
   "metadata": {},
   "source": [
    "inputCols: a list of column names in the bd4 DataFrame that should be imputed. In this case, it includes all columns in bd4.\n",
    "\n",
    "outputCols: a list of names for the output columns after imputation. In this case, it uses the same column names as the input columns.\n",
    "\n",
    "setStrategy(\"median\"): sets the imputation strategy to \"median\", which means that missing values will be replaced with the median value of each column."
   ]
  },
  {
   "cell_type": "code",
   "execution_count": 71,
   "id": "6e9f8546",
   "metadata": {},
   "outputs": [],
   "source": [
    "b5=imputer.fit(bd4)"
   ]
  },
  {
   "cell_type": "code",
   "execution_count": 72,
   "id": "934d81db",
   "metadata": {},
   "outputs": [],
   "source": [
    "bd6=b5.transform(bd4)"
   ]
  },
  {
   "cell_type": "code",
   "execution_count": null,
   "id": "a7498633",
   "metadata": {},
   "outputs": [],
   "source": []
  },
  {
   "cell_type": "markdown",
   "id": "63a8ac2a",
   "metadata": {},
   "source": [
    "# One Hot Encoding"
   ]
  },
  {
   "cell_type": "code",
   "execution_count": 73,
   "id": "c247c3df",
   "metadata": {},
   "outputs": [],
   "source": [
    "from pyspark.ml.feature import OneHotEncoder\n",
    "encoder = OneHotEncoder(dropLast=False, inputCol=\"INDEX_ORIGIN\", outputCol=\"VEC_ORIGIN\")\n",
    "bd7 = encoder.fit(bd6).transform(bd6)"
   ]
  },
  {
   "cell_type": "code",
   "execution_count": null,
   "id": "59be02b8",
   "metadata": {},
   "outputs": [],
   "source": []
  },
  {
   "cell_type": "markdown",
   "id": "dbdb0c1b",
   "metadata": {},
   "source": [
    "# Independent and Dependent Variable Creation"
   ]
  },
  {
   "cell_type": "code",
   "execution_count": 74,
   "id": "95928193",
   "metadata": {},
   "outputs": [],
   "source": [
    "from pyspark.ml.feature import VectorAssembler, StringIndexer  \n",
    "from pyspark.sql.functions import col"
   ]
  },
  {
   "cell_type": "markdown",
   "id": "ac14d883",
   "metadata": {},
   "source": [
    "VectorAssembler from the pyspark.ml.feature module: a feature transformer that combines a given list of columns into a single vector column. This is often used as a preprocessing step before applying machine learning algorithms to a DataFrame.\n",
    "\n",
    "StringIndexer from the pyspark.ml.feature module: a feature transformer that indexes categorical columns, i.e., it assigns a unique numeric index to each distinct category in a column.\n",
    "\n",
    "col from the pyspark.sql.functions module: a function that returns a Column based on the given column name. This is often used to select columns from a DataFrame or to reference columns in DataFrame transformations"
   ]
  },
  {
   "cell_type": "code",
   "execution_count": 75,
   "id": "daf31bc0",
   "metadata": {},
   "outputs": [],
   "source": [
    "a1 = VectorAssembler(  \n",
    "inputCols=['DEP_DELAY',\n",
    "             'DISTANCE', \n",
    "             'FL_DAYOFWEEK',\n",
    "             'INDEX_CARRIER', \n",
    "             'TimeSlot',\n",
    "             'FL_MONTH',\n",
    "             'ACTUAL_ELAPSED_TIME',\n",
    "             'INDEX_ORIGIN'], \n",
    "outputCol='features')"
   ]
  },
  {
   "cell_type": "code",
   "execution_count": 76,
   "id": "4747f692",
   "metadata": {},
   "outputs": [],
   "source": [
    "bd8 = a1.transform(bd7).select(col(\"Delayed\").alias(\"label\"),'features')  \n",
    "bd9 = bd8.select('label','features')"
   ]
  },
  {
   "cell_type": "code",
   "execution_count": 77,
   "id": "8e2ba65c",
   "metadata": {},
   "outputs": [
    {
     "name": "stdout",
     "output_type": "stream",
     "text": [
      "+----------------------------------------+\n",
      "|features                                |\n",
      "+----------------------------------------+\n",
      "|[20.0,723.0,2.0,4.0,1.0,1.0,106.0,0.0]  |\n",
      "|[121.0,316.0,2.0,4.0,1.0,1.0,80.0,0.0]  |\n",
      "|[76.0,763.0,2.0,4.0,1.0,1.0,118.0,0.0]  |\n",
      "|[54.0,2218.0,2.0,4.0,1.0,1.0,338.0,13.0]|\n",
      "|[72.0,2500.0,2.0,4.0,4.0,1.0,339.0,11.0]|\n",
      "|[47.0,1068.0,2.0,4.0,3.0,1.0,149.0,50.0]|\n",
      "|[14.0,631.0,2.0,4.0,2.0,1.0,131.0,11.0] |\n",
      "|[8.0,1874.0,2.0,4.0,3.0,1.0,262.0,146.0]|\n",
      "|[48.0,1167.0,2.0,4.0,1.0,1.0,150.0,36.0]|\n",
      "|[-3.0,1065.0,2.0,4.0,4.0,1.0,200.0,11.0]|\n",
      "+----------------------------------------+\n",
      "only showing top 10 rows\n",
      "\n"
     ]
    }
   ],
   "source": [
    "bd9.select('features').show(10,False)"
   ]
  },
  {
   "cell_type": "markdown",
   "id": "7698426c",
   "metadata": {},
   "source": [
    "It prints the first 10 rows using the show() method.\n",
    "\n",
    "By default, show() only prints the first 20 rows of a DataFrame, so setting False as the second parameter to show() ensures that all columns are displayed without truncation."
   ]
  },
  {
   "cell_type": "code",
   "execution_count": null,
   "id": "0b83e181",
   "metadata": {},
   "outputs": [],
   "source": []
  },
  {
   "cell_type": "markdown",
   "id": "513c5c64",
   "metadata": {},
   "source": [
    "# Training and Testing Data split"
   ]
  },
  {
   "cell_type": "code",
   "execution_count": 78,
   "id": "87182cf9",
   "metadata": {},
   "outputs": [
    {
     "name": "stdout",
     "output_type": "stream",
     "text": [
      "Train Dataset Count: 2014288\n",
      "Test Dataset Count: 501762\n"
     ]
    }
   ],
   "source": [
    "train, test = bd9.randomSplit([0.8, 0.2], seed = 123)\n",
    "\n",
    "print(\"Train Dataset Count: \" + str(train.count()))\n",
    "print(\"Test Dataset Count: \" + str(test.count()))"
   ]
  },
  {
   "cell_type": "markdown",
   "id": "aff04142",
   "metadata": {},
   "source": [
    "weights: a list of weights for each split. In this case, the list is [0.8, 0.2], which means that 80% of the data will be assigned to the training set and 20% of the data will be assigned to the test set.\n",
    "\n",
    "seed: an optional seed value for the random number generator used to split the data. In this case, the seed is set to 123, which means that the same random split will be generated every time this code is run with the same data."
   ]
  },
  {
   "cell_type": "code",
   "execution_count": 79,
   "id": "90c7e436",
   "metadata": {},
   "outputs": [
    {
     "name": "stdout",
     "output_type": "stream",
     "text": [
      "+-----+--------------------+\n",
      "|label|            features|\n",
      "+-----+--------------------+\n",
      "|    0|[-28.0,82.0,4.0,9...|\n",
      "|    0|[-27.0,213.0,1.0,...|\n",
      "|    0|[-25.0,680.0,7.0,...|\n",
      "|    0|[-25.0,1866.0,1.0...|\n",
      "|    0|[-24.0,160.0,4.0,...|\n",
      "+-----+--------------------+\n",
      "only showing top 5 rows\n",
      "\n"
     ]
    }
   ],
   "source": [
    "train.show(5)"
   ]
  },
  {
   "cell_type": "code",
   "execution_count": 80,
   "id": "d5bab391",
   "metadata": {},
   "outputs": [
    {
     "name": "stdout",
     "output_type": "stream",
     "text": [
      "+-----+--------------------+\n",
      "|label|            features|\n",
      "+-----+--------------------+\n",
      "|    0|[-27.0,253.0,3.0,...|\n",
      "|    0|[-24.0,419.0,7.0,...|\n",
      "|    0|[-21.0,2562.0,6.0...|\n",
      "|    0|[-20.0,66.0,7.0,2...|\n",
      "|    0|[-20.0,859.0,4.0,...|\n",
      "+-----+--------------------+\n",
      "only showing top 5 rows\n",
      "\n"
     ]
    }
   ],
   "source": [
    "test.show(5)"
   ]
  },
  {
   "cell_type": "code",
   "execution_count": null,
   "id": "ab0296f8",
   "metadata": {},
   "outputs": [],
   "source": []
  },
  {
   "cell_type": "markdown",
   "id": "33341d45",
   "metadata": {},
   "source": [
    "# Logistic Regression"
   ]
  },
  {
   "cell_type": "code",
   "execution_count": 81,
   "id": "71f36d33",
   "metadata": {},
   "outputs": [],
   "source": [
    "from pyspark.ml.classification import LogisticRegression"
   ]
  },
  {
   "cell_type": "code",
   "execution_count": 82,
   "id": "f5c49b95",
   "metadata": {},
   "outputs": [],
   "source": [
    "lr=LogisticRegression (featuresCol = 'features', labelCol ='label', maxIter=5)\n",
    "lrModel=lr.fit(train)"
   ]
  },
  {
   "cell_type": "markdown",
   "id": "476acb74",
   "metadata": {},
   "source": [
    "featuresCol: the name of the column that contains the input features for the model. In this case, it is set to 'features', which is the name of the vector column that was created using PySpark's VectorAssembler feature transformer.\n",
    "\n",
    "labelCol: the name of the column that contains the labels for the model. In this case, it is set to 'label', which is the name of the column that was created earlier using PySpark's withColumn() method.\n",
    "\n",
    "maxIter: the maximum number of iterations to run the logistic regression algorithm. In this case, it is set to 5."
   ]
  },
  {
   "cell_type": "code",
   "execution_count": 83,
   "id": "7c763539",
   "metadata": {},
   "outputs": [
    {
     "name": "stdout",
     "output_type": "stream",
     "text": [
      "+-----+----------+----------------------------------------+\n",
      "|label|prediction|probability                             |\n",
      "+-----+----------+----------------------------------------+\n",
      "|0    |0.0       |[0.9642826333470051,0.03571736665299485]|\n",
      "|0    |0.0       |[0.8768668092980569,0.12313319070194306]|\n",
      "|0    |0.0       |[0.8538993879976329,0.14610061200236713]|\n",
      "|0    |0.0       |[0.9069910058927615,0.09300899410723851]|\n",
      "|0    |0.0       |[0.8924654782090006,0.10753452179099943]|\n",
      "+-----+----------+----------------------------------------+\n",
      "only showing top 5 rows\n",
      "\n"
     ]
    }
   ],
   "source": [
    "pred_lr=lrModel.transform(test)\n",
    "pred_lr.select('label', 'prediction', 'probability').show(5, False)"
   ]
  },
  {
   "cell_type": "code",
   "execution_count": null,
   "id": "4b468ff2",
   "metadata": {},
   "outputs": [],
   "source": []
  },
  {
   "cell_type": "code",
   "execution_count": 84,
   "id": "431ce4dd",
   "metadata": {},
   "outputs": [],
   "source": [
    "from pyspark.ml.evaluation import BinaryClassificationEvaluator"
   ]
  },
  {
   "cell_type": "code",
   "execution_count": 85,
   "id": "0d5147f4",
   "metadata": {},
   "outputs": [
    {
     "name": "stdout",
     "output_type": "stream",
     "text": [
      "Area under ROC Curve (Logistic Regression model): 0.8815\n"
     ]
    }
   ],
   "source": [
    "# Let's use the run-of-the-mill evaluator\n",
    "evaluator = BinaryClassificationEvaluator(labelCol='label')\n",
    "auroc_lr = evaluator.evaluate(pred_lr, {evaluator.metricName: \"areaUnderROC\"})\n",
    "print(\"Area under ROC Curve (Logistic Regression model): {:.4f}\".format(auroc_lr))"
   ]
  },
  {
   "cell_type": "code",
   "execution_count": 86,
   "id": "5d14e569",
   "metadata": {},
   "outputs": [
    {
     "name": "stdout",
     "output_type": "stream",
     "text": [
      "Area Under ROC Curve (AUC) = 0.881474\n"
     ]
    }
   ],
   "source": [
    "evaluator = BinaryClassificationEvaluator(rawPredictionCol=\"rawPrediction\", labelCol=\"label\", metricName=\"areaUnderROC\")\n",
    "auc = evaluator.evaluate(pred_lr)\n",
    "print(\"Area Under ROC Curve (AUC) = %g\" % auc)"
   ]
  },
  {
   "cell_type": "code",
   "execution_count": 87,
   "id": "f27766a9",
   "metadata": {},
   "outputs": [
    {
     "name": "stdout",
     "output_type": "stream",
     "text": [
      "F1 score: 0.7913042266297193\n"
     ]
    }
   ],
   "source": [
    "from pyspark.ml.evaluation import MulticlassClassificationEvaluator\n",
    "\n",
    "evaluator = MulticlassClassificationEvaluator(labelCol=\"label\", predictionCol=\"prediction\", metricName=\"f1\")\n",
    "\n",
    "f1_score = evaluator.evaluate(pred_lr)\n",
    "print(\"F1 score:\", f1_score)"
   ]
  },
  {
   "cell_type": "code",
   "execution_count": 88,
   "id": "ab03ed98",
   "metadata": {},
   "outputs": [
    {
     "name": "stdout",
     "output_type": "stream",
     "text": [
      "F1 score: 0.764490007144478\n"
     ]
    }
   ],
   "source": [
    "from pyspark.ml.evaluation import BinaryClassificationEvaluator\n",
    "\n",
    "evaluator = BinaryClassificationEvaluator(labelCol=\"label\", rawPredictionCol=\"prediction\")\n",
    "\n",
    "f1_score = evaluator.evaluate(pred_lr)\n",
    "print(\"F1 score:\", f1_score)\n"
   ]
  },
  {
   "cell_type": "code",
   "execution_count": null,
   "id": "65208834",
   "metadata": {},
   "outputs": [],
   "source": []
  },
  {
   "cell_type": "markdown",
   "id": "f1b83ae1",
   "metadata": {},
   "source": [
    "# DecisionTreeClassifier"
   ]
  },
  {
   "cell_type": "code",
   "execution_count": 89,
   "id": "879befbf",
   "metadata": {},
   "outputs": [],
   "source": [
    "from pyspark.ml.classification import DecisionTreeClassifier\n",
    "\n",
    "tree = DecisionTreeClassifier(labelCol=\"label\",featuresCol=\"features\",maxDepth=5,maxBins=32)\n",
    "tree_model = tree.fit(train)\n"
   ]
  },
  {
   "cell_type": "code",
   "execution_count": 90,
   "id": "3214ebed",
   "metadata": {},
   "outputs": [
    {
     "name": "stdout",
     "output_type": "stream",
     "text": [
      "+-----+----------+----------------------------------------+\n",
      "|label|prediction|probability                             |\n",
      "+-----+----------+----------------------------------------+\n",
      "|0    |0.0       |[0.761279430804406,0.2387205691955941]  |\n",
      "|0    |0.0       |[0.6698861243099843,0.33011387569001577]|\n",
      "|0    |0.0       |[0.5110187889980579,0.48898121100194214]|\n",
      "|0    |0.0       |[0.761279430804406,0.2387205691955941]  |\n",
      "|0    |0.0       |[0.6698861243099843,0.33011387569001577]|\n",
      "+-----+----------+----------------------------------------+\n",
      "only showing top 5 rows\n",
      "\n"
     ]
    }
   ],
   "source": [
    "# Create predictions on test data\n",
    "pred_dt= tree_model.transform(test)\n",
    "pred_dt.select('label', 'prediction', 'probability').show(5, False)"
   ]
  },
  {
   "cell_type": "code",
   "execution_count": 91,
   "id": "f35790a9",
   "metadata": {},
   "outputs": [
    {
     "name": "stdout",
     "output_type": "stream",
     "text": [
      "Area under ROC Curve (Decision Tree Classifier Regression model): 0.7777\n"
     ]
    }
   ],
   "source": [
    "from pyspark.ml.evaluation import BinaryClassificationEvaluator\n",
    "\n",
    "# Let's use the run-of-the-mill evaluator\n",
    "evaluator = BinaryClassificationEvaluator(labelCol='label')\n",
    "auroc_dt = evaluator.evaluate(pred_dt, {evaluator.metricName: \"areaUnderROC\"})\n",
    "print(\"Area under ROC Curve (Decision Tree Classifier Regression model): {:.4f}\".format(auroc_dt))"
   ]
  },
  {
   "cell_type": "code",
   "execution_count": 92,
   "id": "6d0d1dfb",
   "metadata": {},
   "outputs": [
    {
     "name": "stdout",
     "output_type": "stream",
     "text": [
      "F1 score: 0.782292963182062\n"
     ]
    }
   ],
   "source": [
    "from pyspark.ml.evaluation import BinaryClassificationEvaluator\n",
    "\n",
    "evaluator = BinaryClassificationEvaluator(labelCol=\"label\", rawPredictionCol=\"prediction\")\n",
    "\n",
    "f1_score = evaluator.evaluate(pred_dt)\n",
    "print(\"F1 score:\", f1_score)"
   ]
  },
  {
   "cell_type": "code",
   "execution_count": null,
   "id": "f84df361",
   "metadata": {},
   "outputs": [],
   "source": []
  },
  {
   "cell_type": "markdown",
   "id": "a656bb8f",
   "metadata": {},
   "source": [
    "# Gradient Boosting\n"
   ]
  },
  {
   "cell_type": "code",
   "execution_count": 93,
   "id": "4764f775",
   "metadata": {},
   "outputs": [],
   "source": [
    "from pyspark.ml.classification import GBTClassifier\n",
    "from pyspark.ml.evaluation import BinaryClassificationEvaluator\n",
    "from pyspark.ml.feature import VectorAssembler\n",
    "from pyspark.ml.tuning import CrossValidator, ParamGridBuilder"
   ]
  },
  {
   "cell_type": "code",
   "execution_count": 94,
   "id": "b82aee27",
   "metadata": {},
   "outputs": [],
   "source": [
    "gbt = GBTClassifier()"
   ]
  },
  {
   "cell_type": "code",
   "execution_count": 95,
   "id": "f1090ccd",
   "metadata": {},
   "outputs": [],
   "source": [
    "param_grid = ParamGridBuilder() \\\n",
    "    .addGrid(gbt.maxDepth, [2, 4, 6]) \\\n",
    "    .addGrid(gbt.maxBins, [20, 30, 40]) \\\n",
    "    .addGrid(gbt.maxIter, [10, 20, 30]) \\\n",
    "    .build()"
   ]
  },
  {
   "cell_type": "code",
   "execution_count": 96,
   "id": "1e9d5537",
   "metadata": {},
   "outputs": [],
   "source": [
    "evaluator = BinaryClassificationEvaluator()\n",
    "cv = CrossValidator(estimator=gbt, estimatorParamMaps=param_grid, evaluator=evaluator, numFolds=5)\n",
    "cv_model = cv.fit(train)"
   ]
  },
  {
   "cell_type": "code",
   "execution_count": 97,
   "id": "66a0835a",
   "metadata": {},
   "outputs": [],
   "source": [
    "predictions_gbt = cv_model.transform(test)"
   ]
  },
  {
   "cell_type": "code",
   "execution_count": 98,
   "id": "84920706",
   "metadata": {},
   "outputs": [
    {
     "name": "stdout",
     "output_type": "stream",
     "text": [
      "Accuracy: 0.9155762309847115\n"
     ]
    }
   ],
   "source": [
    "accuracy = evaluator.evaluate(predictions_gbt)\n",
    "print('Accuracy:', accuracy)"
   ]
  },
  {
   "cell_type": "code",
   "execution_count": 99,
   "id": "d2be9cfb",
   "metadata": {},
   "outputs": [
    {
     "name": "stdout",
     "output_type": "stream",
     "text": [
      "F1 score: 0.8215611660892628\n"
     ]
    }
   ],
   "source": [
    "from pyspark.ml.evaluation import BinaryClassificationEvaluator\n",
    "\n",
    "evaluator = BinaryClassificationEvaluator(labelCol=\"label\", rawPredictionCol=\"prediction\")\n",
    "\n",
    "f1_score = evaluator.evaluate(predictions_gbt)\n",
    "print(\"F1 score:\", f1_score)"
   ]
  },
  {
   "cell_type": "code",
   "execution_count": null,
   "id": "e1201492",
   "metadata": {},
   "outputs": [],
   "source": []
  },
  {
   "cell_type": "markdown",
   "id": "e99a82b9",
   "metadata": {},
   "source": [
    "# Random Forest Classifier"
   ]
  },
  {
   "cell_type": "code",
   "execution_count": 100,
   "id": "b02d91bc",
   "metadata": {},
   "outputs": [
    {
     "name": "stdout",
     "output_type": "stream",
     "text": [
      "Requirement already satisfied: pyspark in c:\\users\\sumit\\anaconda3\\lib\\site-packages (3.3.2)\n",
      "Requirement already satisfied: py4j==0.10.9.5 in c:\\users\\sumit\\anaconda3\\lib\\site-packages (from pyspark) (0.10.9.5)\n"
     ]
    },
    {
     "name": "stderr",
     "output_type": "stream",
     "text": [
      "WARNING: Ignoring invalid distribution -yspark (c:\\users\\sumit\\anaconda3\\lib\\site-packages)\n",
      "WARNING: Ignoring invalid distribution -yspark (c:\\users\\sumit\\anaconda3\\lib\\site-packages)\n",
      "WARNING: Ignoring invalid distribution -yspark (c:\\users\\sumit\\anaconda3\\lib\\site-packages)\n",
      "WARNING: Ignoring invalid distribution -yspark (c:\\users\\sumit\\anaconda3\\lib\\site-packages)\n",
      "WARNING: Ignoring invalid distribution -yspark (c:\\users\\sumit\\anaconda3\\lib\\site-packages)\n",
      "WARNING: Ignoring invalid distribution -yspark (c:\\users\\sumit\\anaconda3\\lib\\site-packages)\n"
     ]
    }
   ],
   "source": [
    "!pip install --upgrade pyspark"
   ]
  },
  {
   "cell_type": "code",
   "execution_count": 101,
   "id": "c57e231b",
   "metadata": {},
   "outputs": [],
   "source": [
    "from pyspark.ml.feature import VectorAssembler\n",
    "from pyspark.ml.feature import StandardScaler\n",
    "from pyspark.ml.classification import RandomForestClassifier\n",
    "from pyspark.ml.evaluation import MulticlassClassificationEvaluator"
   ]
  },
  {
   "cell_type": "code",
   "execution_count": 102,
   "id": "11ca7ca7",
   "metadata": {},
   "outputs": [],
   "source": [
    "rf = RandomForestClassifier(numTrees=10, maxDepth=5, labelCol=\"label\", seed=1)\n",
    "model = rf.fit(train)"
   ]
  },
  {
   "cell_type": "code",
   "execution_count": 103,
   "id": "6f7548bf",
   "metadata": {},
   "outputs": [
    {
     "name": "stdout",
     "output_type": "stream",
     "text": [
      "Accuracy = 0.7761050059590004\n"
     ]
    }
   ],
   "source": [
    "predictions_rf = model.transform(test)\n",
    "evaluator = MulticlassClassificationEvaluator(labelCol=\"label\", predictionCol=\"prediction\", metricName=\"accuracy\")\n",
    "accuracy = evaluator.evaluate(predictions_rf)\n",
    "print(\"Accuracy = \" + str(accuracy))"
   ]
  },
  {
   "cell_type": "code",
   "execution_count": 104,
   "id": "1c7edcf1",
   "metadata": {},
   "outputs": [
    {
     "name": "stdout",
     "output_type": "stream",
     "text": [
      "F1 score: 0.7809550319043885\n"
     ]
    }
   ],
   "source": [
    "from pyspark.ml.evaluation import MulticlassClassificationEvaluator\n",
    "\n",
    "evaluator = MulticlassClassificationEvaluator(labelCol=\"label\", predictionCol=\"prediction\", metricName=\"f1\")\n",
    "\n",
    "f1_score = evaluator.evaluate(predictions_rf)\n",
    "print(\"F1 score:\", f1_score)"
   ]
  },
  {
   "cell_type": "code",
   "execution_count": null,
   "id": "2f2aedd9",
   "metadata": {},
   "outputs": [],
   "source": []
  },
  {
   "cell_type": "markdown",
   "id": "1f4466c3",
   "metadata": {},
   "source": [
    "# SVM"
   ]
  },
  {
   "cell_type": "code",
   "execution_count": 105,
   "id": "ec062ad8",
   "metadata": {},
   "outputs": [],
   "source": [
    "from pyspark.ml.classification import LinearSVC\n",
    "from pyspark.ml.evaluation import MulticlassClassificationEvaluator\n",
    "\n",
    "lsvc = LinearSVC(maxIter=10, regParam=0.1)\n",
    "model = lsvc.fit(train)\n"
   ]
  },
  {
   "cell_type": "code",
   "execution_count": 106,
   "id": "2046ceda",
   "metadata": {},
   "outputs": [],
   "source": [
    "# Make predictions on the test data\n",
    "predictions_svm = model.transform(test)"
   ]
  },
  {
   "cell_type": "code",
   "execution_count": 107,
   "id": "997dcfdb",
   "metadata": {},
   "outputs": [
    {
     "name": "stdout",
     "output_type": "stream",
     "text": [
      "Accuracy = 0.516228\n",
      "Test Error = 0.483772\n"
     ]
    }
   ],
   "source": [
    "# Evaluate the model using the MulticlassClassificationEvaluator\n",
    "evaluator = MulticlassClassificationEvaluator(predictionCol=\"prediction\")\n",
    "accuracy = evaluator.evaluate(predictions_svm)\n",
    "print(\"Accuracy = %g\" % (accuracy))\n",
    "print(\"Test Error = %g\" % (1.0 - accuracy))\n",
    "\n"
   ]
  },
  {
   "cell_type": "code",
   "execution_count": 108,
   "id": "7f5a9681",
   "metadata": {},
   "outputs": [
    {
     "name": "stdout",
     "output_type": "stream",
     "text": [
      "F1 score: 0.5\n"
     ]
    }
   ],
   "source": [
    "from pyspark.ml.evaluation import BinaryClassificationEvaluator\n",
    "\n",
    "evaluator = BinaryClassificationEvaluator(labelCol=\"label\", rawPredictionCol=\"prediction\")\n",
    "\n",
    "f1_score = evaluator.evaluate(predictions_svm)\n",
    "print(\"F1 score:\", f1_score)"
   ]
  },
  {
   "cell_type": "code",
   "execution_count": null,
   "id": "0a7f4a06",
   "metadata": {},
   "outputs": [],
   "source": []
  },
  {
   "cell_type": "code",
   "execution_count": null,
   "id": "c8e8f822",
   "metadata": {},
   "outputs": [],
   "source": []
  }
 ],
 "metadata": {
  "kernelspec": {
   "display_name": "Python 3 (ipykernel)",
   "language": "python",
   "name": "python3"
  },
  "language_info": {
   "codemirror_mode": {
    "name": "ipython",
    "version": 3
   },
   "file_extension": ".py",
   "mimetype": "text/x-python",
   "name": "python",
   "nbconvert_exporter": "python",
   "pygments_lexer": "ipython3",
   "version": "3.9.13"
  }
 },
 "nbformat": 4,
 "nbformat_minor": 5
}
